{
 "cells": [
  {
   "cell_type": "markdown",
   "metadata": {},
   "source": [
    "# <font color='blue'>FUMEC - Analytics com Python</font>\n",
    "## Lista de exercícios 01\n",
    "\n",
    "### <font color='red'>ATENÇÃO:<font>\n",
    "**Para salvar o exercício e postar no SINEF, use a opção do menu \"File --> Download as --> Notebook (.ipynb)**\n",
    "\n",
    "---"
   ]
  },
  {
   "cell_type": "markdown",
   "metadata": {},
   "source": [
    "\n",
    "**Informe o seu nome abaixo:**\n"
   ]
  },
  {
   "cell_type": "code",
   "execution_count": 1,
   "metadata": {},
   "outputs": [],
   "source": [
    "\n",
    "# nome: Eduardo Augusto Lima Pereira\n"
   ]
  },
  {
   "cell_type": "markdown",
   "metadata": {},
   "source": [
    "---"
   ]
  },
  {
   "cell_type": "markdown",
   "metadata": {},
   "source": [
    "**01) Imprimir uma única string da forma apresentada abaixo (múltiplas linhas)**\n",
    "```\n",
    "Python\n",
    "é uma \n",
    "linguagem\n",
    "bem legal!\n",
    "```"
   ]
  },
  {
   "cell_type": "code",
   "execution_count": 19,
   "metadata": {},
   "outputs": [
    {
     "name": "stdout",
     "output_type": "stream",
     "text": [
      "Python\n",
      "é uma\n",
      "linguagem\n",
      "bem legal!\n"
     ]
    }
   ],
   "source": [
    "# exercício 01 - <escrever o código neste bloco>\n",
    "print(\"Python\\né uma\\nlinguagem\\nbem legal!\")"
   ]
  },
  {
   "cell_type": "markdown",
   "metadata": {},
   "source": [
    "**02) Imprimir a string cujo código ASCII dos caracteres segue abaixo:**\n",
    "\n",
    "`97 110 97 108 121 116 105 99 115 32 99 111 109 32 112 121 116 104 111 110`\n"
   ]
  },
  {
   "cell_type": "code",
   "execution_count": 6,
   "metadata": {},
   "outputs": [
    {
     "name": "stdout",
     "output_type": "stream",
     "text": [
      "analytics com python\n"
     ]
    }
   ],
   "source": [
    "# exercício 02 - <escrever o código neste bloco>\n",
    "print(chr(97) + chr(110) + chr(97) + chr(108) + chr(121) + chr(116) + chr(105)\n",
    "     + chr(99) + chr(115) + chr(32) + chr(99) + chr(111) + chr(109) + chr(32)\n",
    "     + chr(112) + chr(121) + chr(116) + chr(104) + chr(111) + chr(110))"
   ]
  },
  {
   "cell_type": "markdown",
   "metadata": {},
   "source": [
    "**03) Criar uma variável \"x\" e atribuir o valor \"o rato roeu a roupa\" e outra variável \"y\" com o valor \" do rei de roma\". Concatenar as duas variáveis em uma variável \"z\" e imprimir o conteúdo de \"z\"**"
   ]
  },
  {
   "cell_type": "code",
   "execution_count": 7,
   "metadata": {},
   "outputs": [
    {
     "name": "stdout",
     "output_type": "stream",
     "text": [
      "o rato roeu a roupa do rei de roma\n"
     ]
    }
   ],
   "source": [
    "# exercício 03 - <escrever o código neste bloco>\n",
    "x = \"o rato roeu a roupa\"\n",
    "y = \" do rei de roma\"\n",
    "z = x + y\n",
    "print(z)"
   ]
  },
  {
   "cell_type": "markdown",
   "metadata": {},
   "source": [
    "**04) Criar uma lista com as palavras da variável \"z\" do exercício anterior, produzindo a saída abaixo:**\n",
    "\n",
    "```['o', 'rato', 'roeu', 'a', 'roupa', 'do', 'rei', 'de', 'roma']```\n"
   ]
  },
  {
   "cell_type": "code",
   "execution_count": 18,
   "metadata": {},
   "outputs": [
    {
     "name": "stdout",
     "output_type": "stream",
     "text": [
      "['o', 'rato', 'roeu', 'a', 'roupa', 'do', 'rei', 'de', 'roma']\n"
     ]
    }
   ],
   "source": [
    "# exercício 04 - <escrever o código neste bloco>\n",
    "z = \"o rato roeu a roupa do rei de roma\"\n",
    "print(z.split(\" \"))"
   ]
  },
  {
   "cell_type": "markdown",
   "metadata": {},
   "source": [
    "**05) Crie variáveis string com o conteúdo \"Cinco elefantes \", \"incomodam \", \"muito mais!\" e a partir das três variáveis, imprima a frase abaixo:**\n",
    "\n",
    "`\"Cinco elefantes incomodam incomodam incomodam incomodam incomodam muito mais!\"`"
   ]
  },
  {
   "cell_type": "code",
   "execution_count": 20,
   "metadata": {},
   "outputs": [
    {
     "name": "stdout",
     "output_type": "stream",
     "text": [
      "Cinco elefantes incomodam incomodam incomodam incomodam incomodam muito mais!\n"
     ]
    }
   ],
   "source": [
    "# exercício 05 - <escrever o código neste bloco>\n",
    "a = \"Cinco elefantes \"\n",
    "b = \"incomodam \"\n",
    "c = \"muito mais!\"\n",
    "print(a + b + b + b + b + b + c)"
   ]
  },
  {
   "cell_type": "markdown",
   "metadata": {},
   "source": [
    "**06) Formatar o número \"1100.12345\" da seguinte forma:*** \n",
    "\n",
    "`R$ 1100,12 reais`"
   ]
  },
  {
   "cell_type": "code",
   "execution_count": 24,
   "metadata": {},
   "outputs": [
    {
     "name": "stdout",
     "output_type": "stream",
     "text": [
      "R$ 1100,12 reais\n"
     ]
    }
   ],
   "source": [
    "# exercício 06 - <escrever o código neste bloco>\n",
    "print(\"R$ {0:.2f} reais\".format(1100.12345).replace(\".\", \",\"))"
   ]
  },
  {
   "cell_type": "markdown",
   "metadata": {},
   "source": [
    "**07) Considere a string \"Felicidade!\". Exiba o primeiro caracter e os dois últimos caracteres, conforme abaixo:**\n",
    "\n",
    "`F`\n",
    "`e!`\n"
   ]
  },
  {
   "cell_type": "code",
   "execution_count": 26,
   "metadata": {},
   "outputs": [
    {
     "name": "stdout",
     "output_type": "stream",
     "text": [
      "F e!\n"
     ]
    }
   ],
   "source": [
    "# exercício 07 - <escrever o código neste bloco>\n",
    "s = \"Felicidade!\"\n",
    "print(s[0] + \" \" + s[-2] + s[-1])"
   ]
  },
  {
   "cell_type": "markdown",
   "metadata": {},
   "source": [
    "**08) Considere a string \"Banana\". Exiba os caracteres de dois em dois, conforme abaixo:**\n",
    "\n",
    "`Bnn`\n",
    "\n",
    "e depois\n",
    "\n",
    "`aaa`"
   ]
  },
  {
   "cell_type": "code",
   "execution_count": 30,
   "metadata": {},
   "outputs": [
    {
     "name": "stdout",
     "output_type": "stream",
     "text": [
      "Bnn\n",
      "aaa\n"
     ]
    }
   ],
   "source": [
    "# exercício 08 - <escrever o código neste bloco>\n",
    "w = \"Banana\"\n",
    "print(w[0] + w[2] + w[4])\n",
    "print(w[1] + w[3] + w[5])"
   ]
  },
  {
   "cell_type": "code",
   "execution_count": null,
   "metadata": {},
   "outputs": [],
   "source": []
  }
 ],
 "metadata": {
  "kernelspec": {
   "display_name": "Python 3",
   "language": "python",
   "name": "python3"
  },
  "language_info": {
   "codemirror_mode": {
    "name": "ipython",
    "version": 3
   },
   "file_extension": ".py",
   "mimetype": "text/x-python",
   "name": "python",
   "nbconvert_exporter": "python",
   "pygments_lexer": "ipython3",
   "version": "3.7.4"
  }
 },
 "nbformat": 4,
 "nbformat_minor": 2
}
