{
 "cells": [
  {
   "cell_type": "markdown",
   "metadata": {
    "colab_type": "text",
    "id": "Ve2cOW3-EnxE"
   },
   "source": [
    "# <font color='blue'>FUMEC - Analytics com Python</font>\n",
    "## **Lista de exercícios 03 - Tuplas e Conjuntos**\n",
    "\n",
    "### <font color='red'>ATENÇÃO:<font>\n",
    "Para salvar o exercício e postar no SINEF, use uma das opções abaixo:\n",
    "\n",
    "*   **Jupyter Notebook**: opção do menu \"File --> Download as --> Notebook (.ipynb)\n",
    "*   **Google Colaboratory**: opção do menu \"File --> Download .ipynb\"\n",
    "\n",
    "\n",
    "Salve o seu arquivo com o nome <font color='red'>**SeuNome_lista03.ipynb**</font>\n",
    "\n",
    "\n",
    "\n",
    "---"
   ]
  },
  {
   "cell_type": "markdown",
   "metadata": {
    "colab_type": "text",
    "id": "BLPhekz2EnxH"
   },
   "source": [
    "### **01) De acordo com os itens abaixo, execute as seguintes tarefas**:\n",
    "```\n",
    "\"cachorro\"\n",
    "[1, 2, 3]\n",
    "3.5\n",
    "False\n",
    "```\n",
    "\n",
    "\n",
    "1.   Crie uma tupla com estes itens acima\n",
    "2.   Percorra a tupla e imprima cada item\n",
    "3.   Imprima a tupla\n",
    "\n",
    "**Saída esperada**:\n",
    "```\n",
    "cachorro\n",
    "[1, 2, 3]\n",
    "3.5\n",
    "False\n",
    "('cachorro', [1, 2, 3], 3.5, False)\n",
    "```\n",
    "\n"
   ]
  },
  {
   "cell_type": "code",
   "execution_count": 15,
   "metadata": {
    "colab": {},
    "colab_type": "code",
    "id": "Sle_b3vhEnxJ"
   },
   "outputs": [
    {
     "name": "stdout",
     "output_type": "stream",
     "text": [
      "cachorro\n",
      "[1, 2, 3]\n",
      "3.5\n",
      "False\n",
      "('cachorro', [1, 2, 3], 3.5, False)\n"
     ]
    }
   ],
   "source": [
    "# exercício 01\n",
    "\n",
    "tupla = tuple([\"cachorro\", [1, 2, 3], 3.5, False])\n",
    "\n",
    "for i in range(len(tupla)):\n",
    "    print(tupla[i])\n",
    "\n",
    "print(tupla)"
   ]
  },
  {
   "cell_type": "markdown",
   "metadata": {
    "colab_type": "text",
    "id": "BtMjSfBLc1tL"
   },
   "source": [
    "### **02) Execute as seguintes tarefas**:\n",
    "\n",
    "1.   Dada a lista `lista = [ (1,'ze', 'MG'), (2,'joao', 'MG'), (3,'maria', 'SP') ]`\n",
    "2.   Percorra a lista imprimindo os elementos na formatação abaixo (use o operador %)\n",
    "\n",
    "**Saída esperada**:\n",
    "```\n",
    "O aluno cuja matrícula é 1 se chama \"ze\" e mora em \"MG\"\n",
    "O aluno cuja matrícula é 2 se chama \"joao\" e mora em \"MG\"\n",
    "O aluno cuja matrícula é 3 se chama \"maria\" e mora em \"SP\"\n",
    "```\n",
    "\n"
   ]
  },
  {
   "cell_type": "code",
   "execution_count": 17,
   "metadata": {
    "colab": {},
    "colab_type": "code",
    "id": "L0PuBYqxEnxO"
   },
   "outputs": [
    {
     "name": "stdout",
     "output_type": "stream",
     "text": [
      "O aluno cuja matrícula é 1 se chama \"ze\" e mora em \"MG\"\n",
      "O aluno cuja matrícula é 2 se chama \"joao\" e mora em \"MG\"\n",
      "O aluno cuja matrícula é 3 se chama \"maria\" e mora em \"SP\"\n"
     ]
    }
   ],
   "source": [
    "# exercício 02\n",
    "\n",
    "lista = [ (1,'ze', 'MG'), (2,'joao', 'MG'), (3,'maria', 'SP') ]\n",
    "\n",
    "for i in range(len(lista)):\n",
    "    print(\"O aluno cuja matrícula é %d se chama \\\"%s\\\" e mora em \\\"%s\\\"\" % lista[i])"
   ]
  },
  {
   "cell_type": "markdown",
   "metadata": {
    "colab_type": "text",
    "id": "pAnX6n5enDk7"
   },
   "source": [
    "### **03) Execute as seguintes tarefas**:\n",
    "\n",
    "1.   Dada as listas abaixo:\n",
    "```\n",
    "lista = [ (1,'ze', 'MG'), (2,'joao', 'MG'), (3,'maria', 'SP') ]\n",
    "cabecalhos = ('Matrícula', 'Nome', 'UF')\n",
    "larguras = (15,20,5)\n",
    "```\n",
    "2.   Percorra a lista imprimindo os elementos na formatação abaixo\n",
    "\n",
    "**Saída esperada**:\n",
    "```\n",
    "----------------------------------------\n",
    "Matrícula      Nome                UF   \n",
    "----------------------------------------\n",
    "1              ze                  MG   \n",
    "2              joao                MG   \n",
    "3              maria               SP   \n",
    "```\n",
    "\n",
    "\n"
   ]
  },
  {
   "cell_type": "code",
   "execution_count": 79,
   "metadata": {
    "colab": {},
    "colab_type": "code",
    "id": "W33DEt9HnHFy"
   },
   "outputs": [
    {
     "name": "stdout",
     "output_type": "stream",
     "text": [
      "----------------------------------------\n",
      "Matrícula      Nome                UF   \n",
      "----------------------------------------\n",
      "1              ze                  MG   \n",
      "2              joao                MG   \n",
      "3              maria               SP   \n"
     ]
    }
   ],
   "source": [
    "# exercício 03\n",
    "\n",
    "TAM = 3\n",
    "lista = [ (1, 'ze', 'MG'), (2, 'joao', 'MG'), (3, 'maria', 'SP') ]\n",
    "cabecalhos = ('Matrícula', 'Nome', 'UF')\n",
    "larguras = (15, 20, 5)\n",
    "\n",
    "largura_total = 0\n",
    "for i in range(len(larguras)):\n",
    "    largura_total += larguras[i]\n",
    "\n",
    "print(\"-\" * largura_total)\n",
    "print(\"%-*s%-*s%-*s\" % (larguras[0],\n",
    "                        cabecalhos[0],\n",
    "                        larguras[1],\n",
    "                        cabecalhos[1],\n",
    "                        larguras[2],\n",
    "                        cabecalhos[2]))\n",
    "print(\"-\" * largura_total)\n",
    "\n",
    "for i in range(TAM):\n",
    "    print(\"%-*s%-*s%-*s\" % (larguras[0],\n",
    "                            lista[i][0],\n",
    "                            larguras[1],\n",
    "                            lista[i][1],\n",
    "                            larguras[2],\n",
    "                            lista[i][2]))"
   ]
  },
  {
   "cell_type": "markdown",
   "metadata": {
    "colab_type": "text",
    "id": "eoFjhZIwojtq"
   },
   "source": [
    "### **04) Execute as seguintes tarefas (pense fora da caixa!)**:\n",
    "\n",
    "1.   Considere a tupla abaixo: \n",
    "```\n",
    "tupla = ( 'x', 'y', 'z')\n",
    "```\n",
    "2.   Substitua o segundo elemento da tupla por 'aaa'\n",
    "\n",
    "**Saída esperada**:\n",
    "```\n",
    "('x', 'aaa', 'z')\n",
    "```\n",
    "\n"
   ]
  },
  {
   "cell_type": "code",
   "execution_count": 83,
   "metadata": {
    "colab": {},
    "colab_type": "code",
    "id": "4AkXkGVhoxkV"
   },
   "outputs": [
    {
     "name": "stdout",
     "output_type": "stream",
     "text": [
      "('x', 'aaa', 'z')\n"
     ]
    }
   ],
   "source": [
    "# exercício 04\n",
    "\n",
    "tupla = ('x', 'y', 'z')\n",
    "\n",
    "temp = list(tupla)\n",
    "temp[1] = 'aaa'\n",
    "tupla = tuple(temp)\n",
    "\n",
    "print(tupla)\n"
   ]
  },
  {
   "cell_type": "markdown",
   "metadata": {
    "colab_type": "text",
    "id": "JuYYZG2_rZO7"
   },
   "source": [
    "### **05) Execute as seguintes tarefas**:\n",
    "\n",
    "1.   Dadas as listas abaixo:\n",
    "```\n",
    "alunos_computacao = [ (1,'ze', 'MG'), (2,'joao', 'MG'), (3,'maria', 'SP') ]\n",
    "alunos_direito = [ (1,'lucas', 'MG'), (2,'pedro', 'RJ'), (3,'clara', 'BA') ]\n",
    "```\n",
    "2.   Imprima todas as UFs onde existem alunos\n",
    "3.   Imprima as UFs onde existem alunos de computação e direito ao mesmo tempo\n",
    "4.   Imprima as UFs onde existem alunos de computação, mas não de direito\n",
    "5.   Imprima as UFs onde existem alunos de direito, mas não de computação\n",
    "\n",
    "**Saída esperada**:\n",
    "```\n",
    "{'RJ', 'BA', 'MG', 'SP'}\n",
    "{'MG'}\n",
    "{'SP'}\n",
    "{'RJ', 'BA'}\n",
    "```\n",
    "\n"
   ]
  },
  {
   "cell_type": "code",
   "execution_count": 107,
   "metadata": {
    "colab": {},
    "colab_type": "code",
    "id": "UL6NclH5r3GO"
   },
   "outputs": [
    {
     "name": "stdout",
     "output_type": "stream",
     "text": [
      "{'BA', 'RJ', 'MG', 'SP'}\n",
      "{'MG'}\n",
      "{'SP'}\n",
      "{'BA', 'RJ'}\n"
     ]
    }
   ],
   "source": [
    "# exercício 05\n",
    "\n",
    "TAM = 3\n",
    "alunos_computacao = [ (1, 'ze', 'MG'), (2, 'joao', 'MG'), (3, 'maria', 'SP') ]\n",
    "alunos_direito = [ (1, 'lucas', 'MG'), (2, 'pedro', 'RJ'), (3, 'clara', 'BA') ]\n",
    "\n",
    "conj_UF_alunos = set()\n",
    "for i in range(TAM):\n",
    "    temp = alunos_computacao[i][2]\n",
    "    conj_UF_alunos.add(temp)\n",
    "    temp = alunos_direito[i][2]\n",
    "    conj_UF_alunos.add(temp)\n",
    "print(conj_UF_alunos)\n",
    "\n",
    "conj_UF_alunos_computacao = set()\n",
    "for i in range(TAM):\n",
    "    temp = alunos_computacao[i][2]\n",
    "    conj_UF_alunos_computacao.add(temp)\n",
    "\n",
    "conj_UF_alunos_direito = set()\n",
    "for i in range(TAM):\n",
    "    temp = alunos_direito[i][2]\n",
    "    conj_UF_alunos_direito.add(temp)\n",
    "\n",
    "print(conj_UF_alunos_computacao & conj_UF_alunos_direito)\n",
    "\n",
    "print(conj_UF_alunos_computacao - conj_UF_alunos_direito)\n",
    "\n",
    "print(conj_UF_alunos_direito - conj_UF_alunos_computacao)\n",
    "\n"
   ]
  },
  {
   "cell_type": "markdown",
   "metadata": {
    "colab_type": "text",
    "id": "dMp67WhF03zo"
   },
   "source": [
    "### <font color='red'>ATENÇÃO:<font>\n",
    "Para salvar o exercício e postar no SINEF, use uma das opções abaixo:\n",
    "\n",
    "*   **Jupyter Notebook**: opção do menu \"File --> Download as --> Notebook (.ipynb)\n",
    "*   **Google Colaboratory**: opção do menu \"File --> Download .ipynb\"\n",
    "\n",
    "\n",
    "Salve o seu arquivo com o nome <font color='red'>**SeuNome_lista03.ipynb**</font>"
   ]
  }
 ],
 "metadata": {
  "colab": {
   "collapsed_sections": [],
   "name": "AP - Lista de exercícios 03 - tuplas e conjuntos.ipynb",
   "provenance": []
  },
  "kernelspec": {
   "display_name": "Python 3",
   "language": "python",
   "name": "python3"
  },
  "language_info": {
   "codemirror_mode": {
    "name": "ipython",
    "version": 3
   },
   "file_extension": ".py",
   "mimetype": "text/x-python",
   "name": "python",
   "nbconvert_exporter": "python",
   "pygments_lexer": "ipython3",
   "version": "3.7.4"
  }
 },
 "nbformat": 4,
 "nbformat_minor": 1
}
