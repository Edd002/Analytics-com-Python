{
  "nbformat": 4,
  "nbformat_minor": 0,
  "metadata": {
    "kernelspec": {
      "display_name": "Python 3",
      "language": "python",
      "name": "python3"
    },
    "language_info": {
      "codemirror_mode": {
        "name": "ipython",
        "version": 3
      },
      "file_extension": ".py",
      "mimetype": "text/x-python",
      "name": "python",
      "nbconvert_exporter": "python",
      "pygments_lexer": "ipython3",
      "version": "3.7.4"
    },
    "colab": {
      "name": "AP - 1a avaliação.ipynb",
      "provenance": [],
      "collapsed_sections": [],
      "toc_visible": true
    }
  },
  "cells": [
    {
      "cell_type": "markdown",
      "metadata": {
        "id": "Ve2cOW3-EnxE",
        "colab_type": "text"
      },
      "source": [
        "![alt text](https://lh3.googleusercontent.com/HwrBhmSncyFuRDNrqt_kyBYkU6PA7-h-QyEUQV0UtwMmVsZemfHGT8o6UYaDTWrvoDumTXVimw=w1280)\n",
        "\n",
        "# <font color='blue'>FUMEC - Analytics com Python - 1a Avaliação</font>\n",
        "\n",
        "\n",
        "---\n",
        "\n",
        "### **LEIA ATENTAMENTE AS INSTRUÇÕES ABAIXO:**\n",
        "\n",
        "**ATENÇÃO**\n",
        "\n",
        "1. O tempo de duração da avaliação é de 1 hora e 40 minutos.\n",
        "\n",
        "2. A avaliação tem valor de 30 pontos.Fique atento ao valor de cada questão.\n",
        "\n",
        "3. Leve a sério sua prova e, com tranquilidade, faça-a da melhor maneira\n",
        "possível como um comprovante de seus esforços.\n",
        "\n",
        "4. A avaliação deve ser feita INDIVIDUALMENTE, sem qualquer consulta aos colegas. Sua consciência e ética serão os seus próprios juízes.\n",
        "\n",
        "5. Questões discursivas com respostas idênticas ou suspeitas serão penalizadas.\n",
        "\n",
        "6. Para salvar a avaliação e realizar o upload no Google Forms da prova, use uma das opções abaixo:\n",
        "\n",
        "*   **Jupyter Notebook**: opção do menu \"File --> Download as --> Notebook (.ipynb)\n",
        "*   **Google Colaboratory**: opção do menu \"File --> Download .ipynb\"\n",
        "\n",
        "\n",
        "Salve o seu arquivo com o nome <font color='red'>**SeuNome_1a_avalicao.ipynb**</font>\n",
        "\n",
        "\n",
        "**BOA AVALIAÇÃO!**\n",
        "\n",
        "---"
      ]
    },
    {
      "cell_type": "markdown",
      "metadata": {
        "id": "jv8KqdSehHbI",
        "colab_type": "text"
      },
      "source": [
        "### **Identificação do aluno(a)**\n",
        "\n",
        "**Número do registro acadêmico**: 226804875\n",
        "\n",
        "**Nome do aluno(a)**: Eduardo Augusto Lima Pereira\n",
        "\n",
        "\n",
        "\n",
        "---\n",
        "\n"
      ]
    },
    {
      "cell_type": "markdown",
      "metadata": {
        "id": "gXe0xvzqwz5U",
        "colab_type": "text"
      },
      "source": [
        "### **01) Executar as seguintes tarefas (7 pontos)**:\n",
        "\n",
        "* Salvar o arquivo [lanchonete.txt](https://drive.google.com/open?id=1apAxecxD1dEE9EMWTJ8hZHjAYdv7IEZE) na pasta \"Meu Drive\" de seu Google Drive\n",
        "* Criar um código para percorrer o arquivo `lanchonete.txt` e recuperar cada linha do arquivo, desprezando a primeira linha de cabeçalho, e armazendo os dados em um dicionário chamado `produtos`, cujo conteúdo deverá ser como se segue: \n",
        "\n",
        "```\n",
        "{'P1': ['coca-cola', 'bebidas', 'Coca-cola em lata 350ml', 3.5, 12], 'P2': ['guarana', 'bebidas', 'Guaraná pet 2 litros', 4.5, 10], 'P3': ['coxinha', 'salgados', 'Coxinha simples', 4.0, 5], 'P4': ['pão de queijo', 'salgados', 'Pão de queijo', 2.0, 15], 'P5': ['pastel', 'salgados', 'Pastel de carne ou queijo', 2.5, 20], 'P6': ['sorvete', 'sobremesa', 'Bola de sorvete', 2.5, 10]}\n",
        "```\n",
        "\n",
        "* Cada item do dicionário deverá ser `codigo : [ lista dos demais atributos ]` :\n",
        "* O preço foi convertido para um número real antes de ser armazenado na lista\n",
        "* A unidade foi convertida para um número inteiro antes de ser armazenada na lista\n",
        "* Além de preencher o dicionário `produtos`, imprimir os campos `nome` e `preço` do arquivo, conforme saída abaixo:\n",
        "\n",
        "\n",
        "**Saída esperada**\n",
        "\n",
        "```\n",
        "------------------------------\n",
        "Nome de produto          Preço\n",
        "------------------------------\n",
        "coca-cola                 3.50\n",
        "guarana                   4.50\n",
        "coxinha                   4.00\n",
        "pão de queijo             2.00\n",
        "pastel                    2.50\n",
        "sorvete                   2.50\n",
        "------------------------------\n",
        "\n",
        "\n",
        "{'P1': ['coca-cola', 'bebidas', 'Coca-cola em lata 350ml', 3.5, 12], 'P2': ['guarana', 'bebidas', 'Guaraná pet 2 litros', 4.5, 10], 'P3': ['coxinha', 'salgados', 'Coxinha simples', 4.0, 5], 'P4': ['pão de queijo', 'salgados', 'Pão de queijo', 2.0, 15], 'P5': ['pastel', 'salgados', 'Pastel de carne ou queijo', 2.5, 20], 'P6': ['sorvete', 'sobremesa', 'Bola de sorvete', 2.5, 10]}\n",
        "```\n",
        "\n",
        "\n"
      ]
    },
    {
      "cell_type": "code",
      "metadata": {
        "id": "G01FdTmzkHDl",
        "colab_type": "code",
        "colab": {
          "base_uri": "https://localhost:8080/",
          "height": 122
        },
        "outputId": "369fe06f-a384-466c-d170-c456a3c2ad36"
      },
      "source": [
        "# Para montar uma pasta do seu Google Drive na máquina virtual do Google Colab\n",
        "\n",
        "from google.colab import drive\n",
        "drive.mount('/content/drive', force_remount=True)"
      ],
      "execution_count": 1,
      "outputs": [
        {
          "output_type": "stream",
          "text": [
            "Go to this URL in a browser: https://accounts.google.com/o/oauth2/auth?client_id=947318989803-6bn6qk8qdgf4n4g3pfee6491hc0brc4i.apps.googleusercontent.com&redirect_uri=urn%3aietf%3awg%3aoauth%3a2.0%3aoob&response_type=code&scope=email%20https%3a%2f%2fwww.googleapis.com%2fauth%2fdocs.test%20https%3a%2f%2fwww.googleapis.com%2fauth%2fdrive%20https%3a%2f%2fwww.googleapis.com%2fauth%2fdrive.photos.readonly%20https%3a%2f%2fwww.googleapis.com%2fauth%2fpeopleapi.readonly\n",
            "\n",
            "Enter your authorization code:\n",
            "··········\n",
            "Mounted at /content/drive\n"
          ],
          "name": "stdout"
        }
      ]
    },
    {
      "cell_type": "code",
      "metadata": {
        "id": "L0PuBYqxEnxO",
        "colab_type": "code",
        "colab": {
          "base_uri": "https://localhost:8080/",
          "height": 258
        },
        "outputId": "7acb3735-7c23-4fcc-9688-38c2f8c7d320"
      },
      "source": [
        "# questão 01\n",
        "\n",
        "produtos = dict()\n",
        "produtosList = list()\n",
        "\n",
        "with open('/content/drive/My Drive/lanchonete.txt') as arquivo: \n",
        "  for linha in arquivo:\n",
        "    produtosList.append(linha.split('|'))\n",
        "\n",
        "produtosList.pop(0)\n",
        "\n",
        "for i in range(len(produtosList)):\n",
        "  key = str(produtosList[i][0])\n",
        "  produtosList[i].pop(0)\n",
        "  value = produtosList[i]\n",
        "  value[-1] = value[-1][:-1]\n",
        "  newP = {key : value}\n",
        "  produtos.update(newP)\n",
        "\n",
        "print('--------------------------------------------')\n",
        "print('Nome do produto \\t\\tPreço')\n",
        "print('--------------------------------------------')\n",
        "for key in produtos:\n",
        "  print(str(produtos.get(key)[0]) + '\\t\\t\\t' + str(produtos.get(key)[3]))\n",
        "print('--------------------------------------------')\n",
        "\n",
        "print()\n",
        "print()\n",
        "\n",
        "print(produtos)"
      ],
      "execution_count": 138,
      "outputs": [
        {
          "output_type": "stream",
          "text": [
            "--------------------------------------------\n",
            "Nome do produto \t\tPreço\n",
            "--------------------------------------------\n",
            "coca-cola\t\t\t3.5\n",
            "guarana\t\t\t4.50\n",
            "coxinha\t\t\t4.00\n",
            "pão de queijo\t\t\t2.00\n",
            "pastel\t\t\t2.5\n",
            "sorvete\t\t\t2.5\n",
            "--------------------------------------------\n",
            "\n",
            "\n",
            "{'P1': ['coca-cola', 'bebidas', 'Coca-cola em lata 350ml', '3.5', '12'], 'P2': ['guarana', 'bebidas', 'Guaraná pet 2 litros', '4.50', '10'], 'P3': ['coxinha', 'salgados', 'Coxinha simples', '4.00', '5'], 'P4': ['pão de queijo', 'salgados', 'Pão de queijo', '2.00', '15'], 'P5': ['pastel', 'salgados', 'Pastel de carne ou queijo', '2.5', '20'], 'P6': ['sorvete', 'sobremesa', 'Bola de sorvete', '2.5', '10']}\n"
          ],
          "name": "stdout"
        }
      ]
    },
    {
      "cell_type": "markdown",
      "metadata": {
        "id": "-qaoOIsm-2sl",
        "colab_type": "text"
      },
      "source": [
        "### **02) Executar as seguintes tarefas (4 pontos)**\n",
        "\n",
        "* Criar uma função `retorna_lista_precos` que irá receber o dicionário `produtos` como parâmetro e uma lista de chaves (de tamanho variável).\n",
        "* A função deverá percorrer a lista de chaves e retornar uma lista com o preço de todos os produtos, cujas chaves foram encontradas no dicionário `produtos`"
      ]
    },
    {
      "cell_type": "code",
      "metadata": {
        "id": "F0oghqcI3Pq_",
        "colab_type": "code",
        "colab": {
          "base_uri": "https://localhost:8080/",
          "height": 71
        },
        "outputId": "23b5cd51-9707-4eb5-d17e-ced50cbc903c"
      },
      "source": [
        "# questão 02\n",
        "\n",
        "# criar um função retorna_lista_precos\n",
        "\n",
        "def retorna_lista_precos (produtos, *chaves):\n",
        "  precoProdutos = list()\n",
        "\n",
        "  for chave in chaves:\n",
        "    if (chave in produtos):\n",
        "      precoProdutos.append(produtos.get(chave)[-2])\n",
        "  \n",
        "  return precoProdutos\n",
        "\n",
        "print(produtos)\n",
        "precos = retorna_lista_precos(produtos,'P1','P2','X', 'P3','P4','P5','Y', 'P6', 'Z') # qtd de parâmetros pode ser variável\n",
        "print(precos)"
      ],
      "execution_count": 139,
      "outputs": [
        {
          "output_type": "stream",
          "text": [
            "{'P1': ['coca-cola', 'bebidas', 'Coca-cola em lata 350ml', '3.5', '12'], 'P2': ['guarana', 'bebidas', 'Guaraná pet 2 litros', '4.50', '10'], 'P3': ['coxinha', 'salgados', 'Coxinha simples', '4.00', '5'], 'P4': ['pão de queijo', 'salgados', 'Pão de queijo', '2.00', '15'], 'P5': ['pastel', 'salgados', 'Pastel de carne ou queijo', '2.5', '20'], 'P6': ['sorvete', 'sobremesa', 'Bola de sorvete', '2.5', '10']}\n",
            "['3.5', '4.50', '4.00', '2.00', '2.5', '2.5']\n"
          ],
          "name": "stdout"
        }
      ]
    },
    {
      "cell_type": "markdown",
      "metadata": {
        "id": "53kfnTp9BLcN",
        "colab_type": "text"
      },
      "source": [
        "### **03) Executar as seguintes tarefas (4 pontos)**\n",
        "\n",
        "* Criar uma função `retorna_lista_unidades` que irá receber o dicionário `produtos` como parâmetro e uma tupla contendo o valor inicial e final a ser usado na pesquisa de chaves dos produtos. \n",
        "* Exemplo: (1,6) deverá pesquisar os produtos P1, P2, P3, P4, P5 e P6\n",
        "* A função deverá retornar uma lista contendo as unidades em estoque de cada produto do intervalo (1,6), ou seja, as unidades de P1, P2, P3, P4, P5 e P6 armazenadas no dicionário `produtos`."
      ]
    },
    {
      "cell_type": "code",
      "metadata": {
        "id": "FS-eHumQ6Mf-",
        "colab_type": "code",
        "colab": {
          "base_uri": "https://localhost:8080/",
          "height": 71
        },
        "outputId": "0e6e8747-25e5-4dd6-c206-efd162f911d7"
      },
      "source": [
        "# questão 03\n",
        "\n",
        "# criar um função retorna_lista_unidades\n",
        "\n",
        "def retorna_lista_unidades (produtos, tuplaChaves):\n",
        "  valorInicial = tuplaChaves[0]\n",
        "  valorFinal = tuplaChaves[1]\n",
        "  listKeysProdutos = list()\n",
        "  listUnidades = list()\n",
        "\n",
        "  i = valorInicial\n",
        "  while (i <= valorFinal):\n",
        "    listKeysProdutos.append('P' + str(i))\n",
        "    i = i + 1\n",
        "\n",
        "  for key in listKeysProdutos:\n",
        "    if (key in produtos):\n",
        "      listUnidades.append(produtos.get(key)[-1])\n",
        "\n",
        "  return listUnidades\n",
        "\n",
        "print(produtos)\n",
        "unidades = retorna_lista_unidades(produtos, (1,6))\n",
        "print(unidades)"
      ],
      "execution_count": 140,
      "outputs": [
        {
          "output_type": "stream",
          "text": [
            "{'P1': ['coca-cola', 'bebidas', 'Coca-cola em lata 350ml', '3.5', '12'], 'P2': ['guarana', 'bebidas', 'Guaraná pet 2 litros', '4.50', '10'], 'P3': ['coxinha', 'salgados', 'Coxinha simples', '4.00', '5'], 'P4': ['pão de queijo', 'salgados', 'Pão de queijo', '2.00', '15'], 'P5': ['pastel', 'salgados', 'Pastel de carne ou queijo', '2.5', '20'], 'P6': ['sorvete', 'sobremesa', 'Bola de sorvete', '2.5', '10']}\n",
            "['12', '10', '5', '15', '20', '10']\n"
          ],
          "name": "stdout"
        }
      ]
    },
    {
      "cell_type": "markdown",
      "metadata": {
        "id": "wXi33VOACW12",
        "colab_type": "text"
      },
      "source": [
        "### **04) Executar as seguintes tarefas (4 pontos)**\n",
        "\n",
        "* Criar uma função `retorna_valor_estoque` para receber duas listas e retornar a multiplicação dos itens destas listas na mesma posição.\n",
        "* Exemplo: multiplicar o item 0 de uma lista com o item 0 de outra lista e armazenar na posição 0 da lista a ser retornada\n",
        "* Função com apenas uma linha de código, serão melhor avaliadas "
      ]
    },
    {
      "cell_type": "code",
      "metadata": {
        "id": "C6M5ZQyC79p5",
        "colab_type": "code",
        "colab": {
          "base_uri": "https://localhost:8080/",
          "height": 71
        },
        "outputId": "0e5b38bf-d0b1-4fd4-b2a2-3291a0d75401"
      },
      "source": [
        "# questão 04\n",
        "\n",
        "def retorna_valor_estoque(unidades, precos):\n",
        "  listEstoque = list()\n",
        "\n",
        "  for i in range(len(unidades)):\n",
        "    listEstoque.append(int(unidades[i], 10) * float(precos[i]))\n",
        "\n",
        "  return listEstoque\n",
        "\n",
        "print(produtos)\n",
        "valor_estoque = retorna_valor_estoque(unidades, precos)\n",
        "print(valor_estoque)"
      ],
      "execution_count": 141,
      "outputs": [
        {
          "output_type": "stream",
          "text": [
            "{'P1': ['coca-cola', 'bebidas', 'Coca-cola em lata 350ml', '3.5', '12'], 'P2': ['guarana', 'bebidas', 'Guaraná pet 2 litros', '4.50', '10'], 'P3': ['coxinha', 'salgados', 'Coxinha simples', '4.00', '5'], 'P4': ['pão de queijo', 'salgados', 'Pão de queijo', '2.00', '15'], 'P5': ['pastel', 'salgados', 'Pastel de carne ou queijo', '2.5', '20'], 'P6': ['sorvete', 'sobremesa', 'Bola de sorvete', '2.5', '10']}\n",
            "[42.0, 45.0, 20.0, 30.0, 50.0, 25.0]\n"
          ],
          "name": "stdout"
        }
      ]
    },
    {
      "cell_type": "markdown",
      "metadata": {
        "id": "tSRT2AdgDOqJ",
        "colab_type": "text"
      },
      "source": [
        "### **05) Executar as seguintes tarefas (4 pontos)**\n",
        "\n",
        "* Criar uma função `soma_itens` para receber uma lista como parâmetro e retornar a soma de seus elementos\n",
        "* Função com apenas uma linha de código, serão melhor avaliadas "
      ]
    },
    {
      "cell_type": "code",
      "metadata": {
        "id": "jIcW_XVv-oDL",
        "colab_type": "code",
        "colab": {
          "base_uri": "https://localhost:8080/",
          "height": 71
        },
        "outputId": "613c997b-5ed9-42e5-b973-afe518df4eb1"
      },
      "source": [
        "# questão 05\n",
        "\n",
        "def soma_itens(valor_estoque):\n",
        "  return sum(valor_estoque)\n",
        "\n",
        "print(produtos)\n",
        "print(soma_itens(valor_estoque))"
      ],
      "execution_count": 142,
      "outputs": [
        {
          "output_type": "stream",
          "text": [
            "{'P1': ['coca-cola', 'bebidas', 'Coca-cola em lata 350ml', '3.5', '12'], 'P2': ['guarana', 'bebidas', 'Guaraná pet 2 litros', '4.50', '10'], 'P3': ['coxinha', 'salgados', 'Coxinha simples', '4.00', '5'], 'P4': ['pão de queijo', 'salgados', 'Pão de queijo', '2.00', '15'], 'P5': ['pastel', 'salgados', 'Pastel de carne ou queijo', '2.5', '20'], 'P6': ['sorvete', 'sobremesa', 'Bola de sorvete', '2.5', '10']}\n",
            "212.0\n"
          ],
          "name": "stdout"
        }
      ]
    },
    {
      "cell_type": "markdown",
      "metadata": {
        "colab_type": "text",
        "id": "BtMjSfBLc1tL"
      },
      "source": [
        "### **06) Criar uma classe Produto, contendo os seguintes atributos, métodos e construtor (4 pontos)**:\n",
        "\n",
        "\n",
        "\n",
        "* Atributos (todos privados/encapsulados): \n",
        "\n",
        ">Nome do atributo | Descrição do atributo\n",
        ">--- | ---\n",
        ">**codigo** | Código do produto \n",
        ">**nome** | Nome do produto \n",
        ">**categoria** | Categoria do produto\n",
        ">**descricao** | Descrição\n",
        ">**preco** | Preço Unitário\n",
        ">**unidades** | Unidades em estoque\n",
        "\n",
        "* Métodos:\n",
        "\n",
        ">Nome do método | Descrição do método\n",
        ">--- | ---\n",
        ">**atualizar_estoque**(*quantidade*) | Diminuir a *quantidade* do atributo **unidades**  \n",
        ">**consultar_estoque** | Retornar o atributo **unidades**  \n",
        ">**consultar_preco** | Retornar o atributo **preco** \n",
        ">**descricao_produto** | Retornar uma string formatada da seguinte `maneira: codigo - nome (descricao - categoria)`\n",
        "\n",
        "* Construtor:  \n",
        "\n",
        ">Características | Descrição\n",
        ">--- | ---\n",
        ">**Parâmetros** | `codigo, nome, categoria, descricao, preço e unidades`\n",
        ">**Descrição** | Atribuir os parâmetros aos atributos correspondentes na classe\n",
        "\n",
        "\n",
        "\n"
      ]
    },
    {
      "cell_type": "code",
      "metadata": {
        "id": "7KVP9A88mlSm",
        "colab_type": "code",
        "colab": {
          "base_uri": "https://localhost:8080/",
          "height": 68
        },
        "outputId": "6df7242a-7235-464f-dbf8-e69e221739f9"
      },
      "source": [
        "# questão 06\n",
        "\n",
        "class Produto:\n",
        "  def __init__(self, codigo, nome, categoria, descricao, preco, unidades):\n",
        "    self.__codigo = codigo\n",
        "    self.__nome = nome\n",
        "    self.__categoria = categoria\n",
        "    self.__descricao = descricao\n",
        "    self.__preco = preco\n",
        "    self.__unidades = unidades\n",
        "\n",
        "  def setCodigo(self, codigo):\n",
        "    self.__codigo = codigo\n",
        "  def getCodigo(self):\n",
        "    return self.__codigo\n",
        "  def setNome(self, nome):\n",
        "    self.__nome = nome\n",
        "  def getNome(self):\n",
        "    return self.__nome\n",
        "  def setCategoria(self, categoria):\n",
        "    self.__categoria = categoria\n",
        "  def getCategoria(self):\n",
        "    return categoria\n",
        "  def setDescricao(self, descricao):\n",
        "    self.__descricao = descricao\n",
        "  def getDescricao(self):\n",
        "    return self.__descricao\n",
        "  def setPreco(self, preco):\n",
        "    self.__preco = preco\n",
        "  def getPreco(self):\n",
        "    return self.__preco\n",
        "  def setUnidades(self, unidades):\n",
        "    self.__unidades = unidades\n",
        "  def getUnidades(self):\n",
        "    return self.__unidades\n",
        "\n",
        "  def atualizar_estoque(self, quantidade):\n",
        "    self.__unidades = self.__unidades - quantidade\n",
        "\n",
        "  def consultar_estoque(self):\n",
        "    return self.__unidades\n",
        "\n",
        "  def consultar_preco(self):\n",
        "    return self.__preco\n",
        "\n",
        "  def descricao_produto(self):\n",
        "    return str(self.__codigo) + ' - ' + self.__nome + ' ( ' + self.__descricao + ' - ' + self.__categoria + ' )'\n",
        "\n",
        "\n",
        "# testando a classe criada\n",
        "\n",
        "coca = Produto('P1', 'coca', 'bebidas', 'coca cola lata', 3.5, 10)\n",
        "\n",
        "print(coca.consultar_estoque())\n",
        "coca.atualizar_estoque(3)\n",
        "print(coca.consultar_estoque())\n",
        "print(coca.descricao_produto())\n"
      ],
      "execution_count": 143,
      "outputs": [
        {
          "output_type": "stream",
          "text": [
            "10\n",
            "7\n",
            "P1 - coca ( coca cola lata - bebidas )\n"
          ],
          "name": "stdout"
        }
      ]
    },
    {
      "cell_type": "markdown",
      "metadata": {
        "id": "lqvOjxjkEFk5",
        "colab_type": "text"
      },
      "source": [
        "### **07) Executar as seguintes tarefas (3 pontos)**\n",
        "\n",
        "* Percorrer os itens do dicionário `produtos` para criar um novo dicionário `produtos2` contendo itens no seguinte padrão: `codigo : classe Produto`\n",
        "* Cada item do dicionário deve ter como chave o `codigo` e como conteúdo uma `instância da classe Produto`\n",
        "* Percorrer o dicionário `produtos2` exibindo a descrição de cada produto do dicionário, usando o método `descricao_produto()`, conforme saída abaixo:\n",
        "\n",
        "```\n",
        "P1 - coca-cola (Coca-cola em lata 350ml - bebidas)\n",
        "P2 - guarana (Guaraná pet 2 litros - bebidas)\n",
        "P3 - coxinha (Coxinha simples - salgados)\n",
        "P4 - pão de queijo (Pão de queijo - salgados)\n",
        "P5 - pastel (Pastel de carne ou queijo - salgados)\n",
        "P6 - sorvete (Bola de sorvete - sobremesa)\n",
        "```"
      ]
    },
    {
      "cell_type": "code",
      "metadata": {
        "id": "duvBldFEEGIq",
        "colab_type": "code",
        "colab": {
          "base_uri": "https://localhost:8080/",
          "height": 119
        },
        "outputId": "792b783c-930b-4003-e7fe-220a39062b4b"
      },
      "source": [
        "# questão 07\n",
        "\n",
        "produtos2 = dict()\n",
        "\n",
        "for key in produtos:\n",
        "  objProduto = Produto(key, produtos.get(key)[0], produtos.get(key)[1], produtos.get(key)[2], produtos.get(key)[3], produtos.get(key)[4])\n",
        "  newP2 = {key: objProduto}\n",
        "  produtos2.update(newP2)\n",
        "\n",
        "for key in produtos2:\n",
        "  print(produtos2.get(key).descricao_produto())"
      ],
      "execution_count": 144,
      "outputs": [
        {
          "output_type": "stream",
          "text": [
            "P1 - coca-cola ( Coca-cola em lata 350ml - bebidas )\n",
            "P2 - guarana ( Guaraná pet 2 litros - bebidas )\n",
            "P3 - coxinha ( Coxinha simples - salgados )\n",
            "P4 - pão de queijo ( Pão de queijo - salgados )\n",
            "P5 - pastel ( Pastel de carne ou queijo - salgados )\n",
            "P6 - sorvete ( Bola de sorvete - sobremesa )\n"
          ],
          "name": "stdout"
        }
      ]
    },
    {
      "cell_type": "markdown",
      "metadata": {
        "id": "dMp67WhF03zo",
        "colab_type": "text"
      },
      "source": [
        "### <font color='red'>ATENÇÃO:<font>\n",
        "Para salvar a avaliação e realizar o upload no Google Forms da prova, use uma das opções abaixo:\n",
        "\n",
        "*   **Jupyter Notebook**: opção do menu \"File --> Download as --> Notebook (.ipynb)\n",
        "*   **Google Colaboratory**: opção do menu \"File --> Download .ipynb\"\n",
        "\n",
        "\n",
        "Salve o seu arquivo com o nome <font color='red'>**SeuNome_1a_avalicao.ipynb**</font>"
      ]
    }
  ]
}