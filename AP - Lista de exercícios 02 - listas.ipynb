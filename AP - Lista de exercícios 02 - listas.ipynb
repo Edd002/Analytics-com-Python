{
 "cells": [
  {
   "cell_type": "markdown",
   "metadata": {
    "colab_type": "text",
    "id": "Ve2cOW3-EnxE"
   },
   "source": [
    "# <font color='blue'>FUMEC - Analytics com Python</font>\n",
    "## **Lista de exercícios 02 - Listas**\n",
    "\n",
    "### <font color='red'>ATENÇÃO:<font>\n",
    "Para salvar o exercício e postar no SINEF, use uma das opções abaixo:\n",
    "\n",
    "*   **Jupyter Notebook**: opção do menu \"File --> Download as --> Notebook (.ipynb)\n",
    "*   **Google Colaboratory**: opção do menu \"File --> Download .ipynb\"\n",
    "\n",
    "\n",
    "Salve o seu arquivo com o nome \"**SeuNome_lista02.ipynb**\"\n",
    "\n",
    "\n",
    "\n",
    "---"
   ]
  },
  {
   "cell_type": "markdown",
   "metadata": {
    "colab_type": "text",
    "id": "BLPhekz2EnxH"
   },
   "source": [
    "### **01) De acordo com os itens abaixo, execute as seguintes tarefas**:\n",
    "```\n",
    "\"cachorro\"\n",
    "[1, 2, 3]\n",
    "3.5\n",
    "False\n",
    "```\n",
    "\n",
    "\n",
    "1.   Crie uma lista com estes itens acima\n",
    "2.   Percorra a lista e imprima cada item\n",
    "3.   Substitua o último elemento da lista pela string 'último'\n",
    "4.   Remova o elemento de índice 0\n",
    "5.   Imprima a lista\n",
    "\n",
    "**Saída esperada**:\n",
    "```\n",
    "cachorro\n",
    "[1, 2, 3]\n",
    "3.5\n",
    "False\n",
    "[[1, 2, 3], 3.5, 'último']\n",
    "```\n",
    "\n"
   ]
  },
  {
   "cell_type": "code",
   "execution_count": 10,
   "metadata": {
    "colab": {},
    "colab_type": "code",
    "id": "Sle_b3vhEnxJ"
   },
   "outputs": [
    {
     "name": "stdout",
     "output_type": "stream",
     "text": [
      "cachorro\n",
      "[1, 2, 3]\n",
      "3.5\n",
      "False\n",
      "[[1, 2, 3], 3.5, 'último']\n"
     ]
    }
   ],
   "source": [
    "# exercício 01\n",
    "\n",
    "lista = list(['cachorro', [1, 2, 3], 3.5, False])\n",
    "\n",
    "for i in range(len(lista)) :\n",
    "    print(lista[i], end = '\\n')\n",
    "\n",
    "lista[-1] = 'último'\n",
    "\n",
    "del lista[0]\n",
    "\n",
    "print(lista)"
   ]
  },
  {
   "cell_type": "markdown",
   "metadata": {
    "colab_type": "text",
    "id": "BtMjSfBLc1tL"
   },
   "source": [
    "### **02) Execute as seguintes tarefas**:\n",
    "\n",
    "1.   Crie uma lista, representando uma matriz 3x3, com todos os elementos iguais a 0, usando o operador de repetição * para gerar todos os itens\n",
    "2.   Imprima a lista criada\n",
    "\n",
    "**Saída esperada**:\n",
    "```\n",
    "[[0, 0, 0], [0, 0, 0], [0, 0, 0]]\n",
    "```\n",
    "\n"
   ]
  },
  {
   "cell_type": "code",
   "execution_count": 14,
   "metadata": {
    "colab": {},
    "colab_type": "code",
    "id": "L0PuBYqxEnxO"
   },
   "outputs": [
    {
     "name": "stdout",
     "output_type": "stream",
     "text": [
      "[[0, 0, 0], [0, 0, 0], [0, 0, 0]]\n"
     ]
    }
   ],
   "source": [
    "# exercício 02\n",
    "\n",
    "lista = list([[0] * 3] * 3)\n",
    "\n",
    "print(lista)"
   ]
  },
  {
   "cell_type": "markdown",
   "metadata": {
    "colab_type": "text",
    "id": "pAnX6n5enDk7"
   },
   "source": [
    "### **03) Execute as seguintes tarefas**:\n",
    "\n",
    "1.   Crie uma lista, representando uma matriz 3x3, com o conteúdo ```[[1, 2, 3], [4, 5, 6], [7, 8, 9]]```\n",
    "2.   Imprima a lista criada\n",
    "3.   Percorra a lista para substituir os elementos onde **i = j** (índice da linha é igual ao índice da coluna) pelo número 1, e os demais elementos da matriz devem ser substituídos pelo número 0\n",
    "4.   Imprima a lista\n",
    "\n",
    "**Saída esperada**:\n",
    "```\n",
    "[[1, 2, 3], [4, 5, 6], [7, 8, 9]]\n",
    "[[1, 0, 0], [0, 1, 0], [0, 0, 1]]\n",
    "```\n",
    "\n"
   ]
  },
  {
   "cell_type": "code",
   "execution_count": 58,
   "metadata": {
    "colab": {},
    "colab_type": "code",
    "id": "W33DEt9HnHFy"
   },
   "outputs": [
    {
     "name": "stdout",
     "output_type": "stream",
     "text": [
      "[[1, 2, 3], [4, 5, 6], [7, 8, 9]]\n",
      "[[1, 0, 0], [0, 1, 0], [0, 0, 1]]\n"
     ]
    }
   ],
   "source": [
    "# exercício 03\n",
    "\n",
    "#lista = list([[0] * 3] * 3)\n",
    "lista = [[0] * 3 for i in range(3)]\n",
    "elem = 1\n",
    "\n",
    "for i in range(len(lista)) :\n",
    "    for j in range(len(lista[i])) :\n",
    "        lista[i][j] = elem\n",
    "        elem += 1\n",
    "\n",
    "print(lista)\n",
    "\n",
    "for i in range(len(lista)) :\n",
    "    for j in range(len(lista[i])) :\n",
    "        if i < j:\n",
    "            lista[i][j] = 0\n",
    "        elif i > j:\n",
    "            lista[i][j] = 0\n",
    "        else:\n",
    "            lista[i][j] = 1\n",
    "\n",
    "print(lista)\n",
    "\n",
    "#for row in lista:\n",
    "    #print(' '.join([str(elem) for elem in row]))"
   ]
  },
  {
   "cell_type": "markdown",
   "metadata": {
    "colab_type": "text",
    "id": "eoFjhZIwojtq"
   },
   "source": [
    "### **04) Execute as seguintes tarefas**:\n",
    "\n",
    "1.   Considerando duas listas \n",
    "```\n",
    "l1 = ['1','2','3']\n",
    "l2 = ['a','b','c']\n",
    "```\n",
    "2.   Concatene em formato string cada elemento da primeira lista com cada elemento da segunda lista para produzir uma nova lista\n",
    "3.   Faça uma versão usando o comando ***for*** de forma tradicional\n",
    "4.   Faça outra versão usando *compreensão de listas*\n",
    "\n",
    "**Saída esperada**:\n",
    "```\n",
    "['1a', '1b', '1c', '2a', '2b', '2c', '3a', '3b', '3c']\n",
    "['1a', '1b', '1c', '2a', '2b', '2c', '3a', '3b', '3c']\n",
    "```\n",
    "\n"
   ]
  },
  {
   "cell_type": "code",
   "execution_count": 83,
   "metadata": {
    "colab": {},
    "colab_type": "code",
    "id": "4AkXkGVhoxkV"
   },
   "outputs": [
    {
     "name": "stdout",
     "output_type": "stream",
     "text": [
      "['1a', '1b', '1c', '2a', '2b', '2c', '3a', '3b', '3c']\n",
      "['1a', '1b', '1c', '2a', '2b', '2c', '3a', '3b', '3c']\n"
     ]
    }
   ],
   "source": [
    "# exercício 04\n",
    "\n",
    "l1 = ['1', '2', '3']\n",
    "l2 = ['a', 'b', 'c']\n",
    "lista = list([''] * len(l1) * len(l2))\n",
    "\n",
    "i1 = 0\n",
    "i2 = 0\n",
    "for i in range(len(lista)) :\n",
    "    lista[i] = lista[i] + l1[i1] + l2[i2]\n",
    "    i2 = i2  + 1\n",
    "    if (i + 1) % 3 == 0 :\n",
    "        i1 = i1 + 1\n",
    "        i2 = 0\n",
    "print(lista)\n",
    "\n",
    "lista2 = [ (x + y) for x in l1 for y in l2 ]\n",
    "print(lista2)"
   ]
  },
  {
   "cell_type": "markdown",
   "metadata": {
    "colab_type": "text",
    "id": "JuYYZG2_rZO7"
   },
   "source": [
    "### **05) De acordo com os itens abaixo, execute as seguintes tarefas**:\n",
    "```\n",
    "'banana'\n",
    "'laranja'\n",
    "'limão'\n",
    "'caju'\n",
    "```\n",
    "\n",
    "\n",
    "1.   Crie uma lista com estes itens acima\n",
    "2.   Inclua um novo item 'abacaxi' ao final da lista\n",
    "3.   Remova o elemento 'banana'\n",
    "4.   Retire o último elemento da lista\n",
    "5.   Ordene a lista em ordem decrescente\n",
    "6.   Imprima a lista\n",
    "\n",
    "**Saída esperada**:\n",
    "```\n",
    "['caju', 'limão', 'laranja']\n",
    "```\n",
    "\n"
   ]
  },
  {
   "cell_type": "code",
   "execution_count": 10,
   "metadata": {
    "colab": {},
    "colab_type": "code",
    "id": "UL6NclH5r3GO"
   },
   "outputs": [
    {
     "name": "stdout",
     "output_type": "stream",
     "text": [
      "['limão', 'laranja', 'caju']\n"
     ]
    }
   ],
   "source": [
    "# exercício 05\n",
    "lista = list(['banana', 'laranja', 'limão', 'caju'])\n",
    "\n",
    "lista.append('abacaxi')\n",
    "\n",
    "lista.remove('banana')\n",
    "\n",
    "lista.pop()\n",
    "\n",
    "lista.sort(reverse=True)\n",
    "\n",
    "print(lista)"
   ]
  },
  {
   "cell_type": "markdown",
   "metadata": {
    "colab_type": "text",
    "id": "cdWM9aGjsyk3"
   },
   "source": [
    "### **06) Execute as seguintes tarefas**:\n",
    "\n",
    "1.   Crie uma fila vazia (usar uma lista padrão)\n",
    "2.   Use um loop com o comando ***for*** para incluir na fila com os itens ```'Item 1', 'Item 2', 'Item 3' e 'Item 4'```\n",
    "3.   Imprima a fila\n",
    "4.   Use um loop com o comando ***for*** para ir retirando os elementos da fila e imprimir o elemento retirado e o elemetnos restantes\n",
    "5.   Imprima a fila vazia\n",
    "\n",
    "**Saída esperada**:\n",
    "```\n",
    "['Item 1', 'Item 2', 'Item 3', 'Item 4']\n",
    "Retirei Item 1 e faltam 3 elementos na fila\n",
    "Retirei Item 2 e faltam 2 elementos na fila\n",
    "Retirei Item 3 e faltam 1 elementos na fila\n",
    "Retirei Item 4 e faltam 0 elementos na fila\n",
    "[]\n",
    "```"
   ]
  },
  {
   "cell_type": "code",
   "execution_count": 16,
   "metadata": {
    "colab": {},
    "colab_type": "code",
    "id": "uQF5BUvLu79Z"
   },
   "outputs": [
    {
     "name": "stdout",
     "output_type": "stream",
     "text": [
      "['Item 1', 'Item 2', 'Item 3', 'Item 4']\n",
      "Retirei Item 1 e faltam 3 elementos na fila\n",
      "Retirei Item 2 e faltam 2 elementos na fila\n",
      "Retirei Item 3 e faltam 1 elementos na fila\n",
      "Retirei Item 4 e faltam 0 elementos na fila\n",
      "[]\n"
     ]
    }
   ],
   "source": [
    "# exercício 06\n",
    "fila = list()\n",
    "\n",
    "for i in range(1, 5) :\n",
    "    fila.append('Item ' + str(i))\n",
    "\n",
    "print(fila)\n",
    "\n",
    "for i in range(1, 5) :\n",
    "    fila.pop(0)\n",
    "    print('Retirei Item ' + str(i) + ' e faltam ' + str(len(fila)) + ' elementos na fila')\n",
    "\n",
    "print(fila)\n"
   ]
  },
  {
   "cell_type": "markdown",
   "metadata": {
    "colab_type": "text",
    "id": "I_l5x7texMRv"
   },
   "source": [
    "### **07) Considere as duas strings abaixo e execute as seguintes tarefas**:\n",
    "```\n",
    "naipes = 'copas ouros espadas paus'\n",
    "cartas = 'A 2 3 4 5 6 7 8 9 10 J Q K'\n",
    "```\n",
    "1.   Crie duas listas a partir das strings acima\n",
    "2.   Imprima cada uma das listas criadas\n",
    "3.   Crie uma nova lista chamada '**baralho**' contendo 4 elementos. Cada elemento será uma lista com as cartas de cada naipe\n",
    "4.   Imprima a lista criada\n",
    "\n",
    "**Saída esperada**:\n",
    "```\n",
    "['copas', 'ouros', 'espadas', 'paus']\n",
    "['A', '2', '3', '4', '5', '6', '7', '8', '9', '10', 'J', 'Q', 'K']\n",
    "[['A copas', '2 copas', '3 copas', '4 copas', '5 copas', '6 copas', '7 copas', '8 copas', '9 copas', '10 copas', 'J copas', 'Q copas', 'K copas'], \n",
    "['A ouros', '2 ouros', '3 ouros', '4 ouros', '5 ouros', '6 ouros', '7 ouros', '8 ouros', '9 ouros', '10 ouros', 'J ouros', 'Q ouros', 'K ouros'], \n",
    "['A espadas', '2 espadas', '3 espadas', '4 espadas', '5 espadas', '6 espadas', '7 espadas', '8 espadas', '9 espadas', '10 espadas', 'J espadas', 'Q espadas', 'K espadas'], \n",
    "['A paus', '2 paus', '3 paus', '4 paus', '5 paus', '6 paus', '7 paus', '8 paus', '9 paus', '10 paus', 'J paus', 'Q paus', 'K paus']]\n",
    "```"
   ]
  },
  {
   "cell_type": "code",
   "execution_count": 37,
   "metadata": {
    "colab": {},
    "colab_type": "code",
    "id": "NTvtJbFtyG0q"
   },
   "outputs": [
    {
     "name": "stdout",
     "output_type": "stream",
     "text": [
      "['copas', 'ouros', 'espadas', 'paus']\n",
      "['A', '2', '3', '4', '5', '6', '7', '8', '9', '10', 'J', 'Q', 'K']\n",
      "[[], [], [], []]\n",
      "[['A copas', '2 copas', '3 copas', '4 copas', '5 copas', '6 copas', '7 copas', '8 copas', '9 copas', '10 copas', 'J copas', 'Q copas', 'K copas'], ['A ouros', '2 ouros', '3 ouros', '4 ouros', '5 ouros', '6 ouros', '7 ouros', '8 ouros', '9 ouros', '10 ouros', 'J ouros', 'Q ouros', 'K ouros'], ['A espadas', '2 espadas', '3 espadas', '4 espadas', '5 espadas', '6 espadas', '7 espadas', '8 espadas', '9 espadas', '10 espadas', 'J espadas', 'Q espadas', 'K espadas'], ['A paus', '2 paus', '3 paus', '4 paus', '5 paus', '6 paus', '7 paus', '8 paus', '9 paus', '10 paus', 'J paus', 'Q paus', 'K paus']]\n"
     ]
    }
   ],
   "source": [
    "# exercício 07\n",
    "naipes = list('copas ouros espadas paus'.split(' '))\n",
    "cartas = list('A 2 3 4 5 6 7 8 9 10 J Q K'.split(' '))\n",
    "\n",
    "print(naipes)\n",
    "print(cartas)\n",
    "\n",
    "baralho = list([[], [], [], []])\n",
    "print(baralho)\n",
    "\n",
    "for i in range(len(naipes)) :\n",
    "    for j in range(len(cartas)) :\n",
    "        baralho[i].append(cartas[j] + ' ' + naipes[i])\n",
    "\n",
    "print(baralho)"
   ]
  },
  {
   "cell_type": "markdown",
   "metadata": {
    "colab_type": "text",
    "id": "dMp67WhF03zo"
   },
   "source": [
    "### <font color='red'>ATENÇÃO:<font>\n",
    "Para salvar o exercício e postar no SINEF, use uma das opções abaixo:\n",
    "\n",
    "*   **Jupyter Notebook**: opção do menu \"File --> Download as --> Notebook (.ipynb)\n",
    "*   **Google Colaboratory**: opção do menu \"File --> Download .ipynb\"\n",
    "\n",
    "\n",
    "Salve o seu arquivo com o nome \"**SeuNome_lista02.ipynb**\""
   ]
  },
  {
   "cell_type": "code",
   "execution_count": null,
   "metadata": {},
   "outputs": [],
   "source": []
  }
 ],
 "metadata": {
  "colab": {
   "collapsed_sections": [],
   "name": "AP - Lista de exercícios 02 - listas.ipynb",
   "provenance": []
  },
  "kernelspec": {
   "display_name": "Python 3",
   "language": "python",
   "name": "python3"
  },
  "language_info": {
   "codemirror_mode": {
    "name": "ipython",
    "version": 3
   },
   "file_extension": ".py",
   "mimetype": "text/x-python",
   "name": "python",
   "nbconvert_exporter": "python",
   "pygments_lexer": "ipython3",
   "version": "3.7.4"
  }
 },
 "nbformat": 4,
 "nbformat_minor": 1
}
