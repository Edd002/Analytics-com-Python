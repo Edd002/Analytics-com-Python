{
  "nbformat": 4,
  "nbformat_minor": 0,
  "metadata": {
    "kernelspec": {
      "display_name": "Python 3",
      "language": "python",
      "name": "python3"
    },
    "language_info": {
      "codemirror_mode": {
        "name": "ipython",
        "version": 3
      },
      "file_extension": ".py",
      "mimetype": "text/x-python",
      "name": "python",
      "nbconvert_exporter": "python",
      "pygments_lexer": "ipython3",
      "version": "3.7.4"
    },
    "colab": {
      "name": "3a avaliação.ipynb",
      "provenance": [],
      "collapsed_sections": []
    }
  },
  "cells": [
    {
      "cell_type": "markdown",
      "metadata": {
        "id": "Ve2cOW3-EnxE",
        "colab_type": "text"
      },
      "source": [
        "\n",
        "# <font color='blue'>FUMEC - Analytics com Python\n",
        "# 3a Avaliação - PROVA FINAL (valor: 30 pontos)</font>\n",
        "\n",
        "\n",
        "---\n",
        "\n",
        "### **LEIA ATENTAMENTE AS INSTRUÇÕES ABAIXO:**\n",
        "\n",
        "**ATENÇÃO**\n",
        "\n",
        "1. O tempo de duração da avaliação é de 1 hora e 40 minutos.\n",
        "\n",
        "2. A avaliação tem valor de 30 pontos.Fique atento ao valor de cada questão.\n",
        "\n",
        "3. Leve a sério sua prova e, com tranquilidade, faça-a da melhor maneira\n",
        "possível como um comprovante de seus esforços.\n",
        "\n",
        "4. A avaliação deve ser feita INDIVIDUALMENTE, sem qualquer consulta aos colegas. Sua consciência e ética serão os seus próprios juízes.\n",
        "\n",
        "5. Questões discursivas com respostas idênticas ou suspeitas serão penalizadas.\n",
        "\n",
        "6. Para salvar a avaliação e realizar o upload no Google Forms da prova, use uma das opções abaixo:\n",
        "\n",
        "*   **Jupyter Notebook**: opção do menu \"File --> Download as --> Notebook (.ipynb)\n",
        "*   **Google Colaboratory**: opção do menu \"File --> Download .ipynb\"\n",
        "\n",
        "\n",
        "Salve o seu arquivo com o nome <font color='red'>**SeuNome_3a_avalicao.ipynb**</font>\n",
        "\n",
        "\n",
        "**BOA AVALIAÇÃO!**\n",
        "\n",
        "---"
      ]
    },
    {
      "cell_type": "markdown",
      "metadata": {
        "id": "jv8KqdSehHbI",
        "colab_type": "text"
      },
      "source": [
        "## **Identificação do aluno(a)**\n",
        "\n",
        "\n"
      ]
    },
    {
      "cell_type": "markdown",
      "metadata": {
        "id": "J87LJVAE06eG",
        "colab_type": "text"
      },
      "source": [
        "\n",
        "**Número do registro acadêmico**:\n"
      ]
    },
    {
      "cell_type": "code",
      "metadata": {
        "id": "LNgsa0wx08zk",
        "colab_type": "code",
        "colab": {}
      },
      "source": [
        "226804875"
      ],
      "execution_count": null,
      "outputs": []
    },
    {
      "cell_type": "markdown",
      "metadata": {
        "id": "coBCYurm09co",
        "colab_type": "text"
      },
      "source": [
        "\n",
        "**Nome do aluno(a)**:"
      ]
    },
    {
      "cell_type": "code",
      "metadata": {
        "id": "HvuJSARq0-rs",
        "colab_type": "code",
        "colab": {}
      },
      "source": [
        "Eduardo Augusto Lima Pereira"
      ],
      "execution_count": null,
      "outputs": []
    },
    {
      "cell_type": "markdown",
      "metadata": {
        "id": "BXEcBjsJ1Bje",
        "colab_type": "text"
      },
      "source": [
        "---"
      ]
    },
    {
      "cell_type": "markdown",
      "metadata": {
        "id": "9KsAKw0HZcoK",
        "colab_type": "text"
      },
      "source": [
        "# Apresentação\n",
        "\n",
        "Você deverá reproduzir os passos para apresentar um exemplo da tarefa de classificação. Você precisará carregar os dados de um arquivo, preparar os dados e executar as etapas de treinamento e teste.\n"
      ]
    },
    {
      "cell_type": "markdown",
      "metadata": {
        "id": "Nwf_tYBd4Jrz",
        "colab_type": "text"
      },
      "source": [
        "## Conjunto de dados\n",
        "\n",
        "* O arquivo de dados a ser utilizado está disponível no link https://archive.ics.uci.edu/ml/machine-learning-databases/car/car.data.\n",
        "\n",
        "* Os dados a serem trabalhados correspondem a um conjunto de avaliação de carros de acordo com diferentes critérios, tais como preço, capacidade, segurança etc.\n",
        "\n",
        "* A ideia é gerar um modelo classificador para predizer qual seria a avaliação do carro de acordo com os critérios do arquivo.\n",
        "\n",
        "* As colunas originais do arquivo estão descritas abaixo:\n",
        "\n",
        "   1. **buying**: v-high, high, med, low\n",
        "   2. **maint**: v-high, high, med, low\n",
        "   3. **doors**: 2, 3, 4, 5-more\n",
        "   4. **persons**: 2, 4, more\n",
        "   5. **lug_boot**: small, med, big\n",
        "   6. **safety**: low, med, high\n",
        "   7. **evaluation**: unacc, acc, good, v-good\n",
        "\n",
        "* A coluna **evaluation** será a classe a ser predita pelo classificador."
      ]
    },
    {
      "cell_type": "markdown",
      "metadata": {
        "id": "3uiibJbo41RO",
        "colab_type": "text"
      },
      "source": [
        "# Questões\n",
        "\n",
        "As questões propostas serão avaliadas de acordo com a exequibilidade do código, clareza, profundidade e os recursos utilizados para resolver a tarefa proposta."
      ]
    },
    {
      "cell_type": "markdown",
      "metadata": {
        "id": "gXe0xvzqwz5U",
        "colab_type": "text"
      },
      "source": [
        "### **01) Carregar o dataset (5 pontos)**:\n",
        "\n"
      ]
    },
    {
      "cell_type": "markdown",
      "metadata": {
        "id": "UN0n2TVz2UaM",
        "colab_type": "text"
      },
      "source": [
        "Importar as bibliotecas necessárias"
      ]
    },
    {
      "cell_type": "code",
      "metadata": {
        "id": "5C08JuRlhDkL",
        "colab_type": "code",
        "colab": {}
      },
      "source": [
        "# importar as bibliotecas\n",
        "import pandas as pd\n",
        "import numpy as np\n",
        "import tensorflow as tf\n",
        "import seaborn as sns\n",
        "\n",
        "from matplotlib import pyplot as plt\n",
        "from sklearn.model_selection import train_test_split\n",
        "from sklearn.neighbors import KNeighborsClassifier\n",
        "from sklearn.metrics import confusion_matrix\n",
        "from sklearn.naive_bayes import GaussianNB\n",
        "from joblib import dump, load\n",
        "from sklearn import tree"
      ],
      "execution_count": 178,
      "outputs": []
    },
    {
      "cell_type": "markdown",
      "metadata": {
        "id": "BE7f903G2YPW",
        "colab_type": "text"
      },
      "source": [
        "Carregar o arquivo https://archive.ics.uci.edu/ml/machine-learning-databases/car/car.data para um dataframe da biblioteca pandas\n",
        "\n",
        "Usar os seguintes nomes para as colunas do arquivo (nesta ordem): **preco, manutencao, num_portas, lugares, porta_malas, seguranca, avaliacao**\n",
        "\n",
        "A coluna **avaliacao** contém a classe alvo para o classificador "
      ]
    },
    {
      "cell_type": "code",
      "metadata": {
        "id": "8u2ZCBIEZakV",
        "colab_type": "code",
        "colab": {}
      },
      "source": [
        "# carregar os dados\n",
        "cols = ['preco', 'manutencao', 'num_portas', 'lugares', 'porta_malas', 'seguranca', 'avaliacao']\n",
        "df = pd.read_csv('https://archive.ics.uci.edu/ml/machine-learning-databases/car/car.data', names=cols)"
      ],
      "execution_count": 179,
      "outputs": []
    },
    {
      "cell_type": "code",
      "metadata": {
        "id": "MuiKDuzj2MlF",
        "colab_type": "code",
        "colab": {
          "base_uri": "https://localhost:8080/",
          "height": 204
        },
        "outputId": "960ebcf8-8eee-4676-df0e-9ab208531695"
      },
      "source": [
        "df.head()"
      ],
      "execution_count": 180,
      "outputs": [
        {
          "output_type": "execute_result",
          "data": {
            "text/html": [
              "<div>\n",
              "<style scoped>\n",
              "    .dataframe tbody tr th:only-of-type {\n",
              "        vertical-align: middle;\n",
              "    }\n",
              "\n",
              "    .dataframe tbody tr th {\n",
              "        vertical-align: top;\n",
              "    }\n",
              "\n",
              "    .dataframe thead th {\n",
              "        text-align: right;\n",
              "    }\n",
              "</style>\n",
              "<table border=\"1\" class=\"dataframe\">\n",
              "  <thead>\n",
              "    <tr style=\"text-align: right;\">\n",
              "      <th></th>\n",
              "      <th>preco</th>\n",
              "      <th>manutencao</th>\n",
              "      <th>num_portas</th>\n",
              "      <th>lugares</th>\n",
              "      <th>porta_malas</th>\n",
              "      <th>seguranca</th>\n",
              "      <th>avaliacao</th>\n",
              "    </tr>\n",
              "  </thead>\n",
              "  <tbody>\n",
              "    <tr>\n",
              "      <th>0</th>\n",
              "      <td>vhigh</td>\n",
              "      <td>vhigh</td>\n",
              "      <td>2</td>\n",
              "      <td>2</td>\n",
              "      <td>small</td>\n",
              "      <td>low</td>\n",
              "      <td>unacc</td>\n",
              "    </tr>\n",
              "    <tr>\n",
              "      <th>1</th>\n",
              "      <td>vhigh</td>\n",
              "      <td>vhigh</td>\n",
              "      <td>2</td>\n",
              "      <td>2</td>\n",
              "      <td>small</td>\n",
              "      <td>med</td>\n",
              "      <td>unacc</td>\n",
              "    </tr>\n",
              "    <tr>\n",
              "      <th>2</th>\n",
              "      <td>vhigh</td>\n",
              "      <td>vhigh</td>\n",
              "      <td>2</td>\n",
              "      <td>2</td>\n",
              "      <td>small</td>\n",
              "      <td>high</td>\n",
              "      <td>unacc</td>\n",
              "    </tr>\n",
              "    <tr>\n",
              "      <th>3</th>\n",
              "      <td>vhigh</td>\n",
              "      <td>vhigh</td>\n",
              "      <td>2</td>\n",
              "      <td>2</td>\n",
              "      <td>med</td>\n",
              "      <td>low</td>\n",
              "      <td>unacc</td>\n",
              "    </tr>\n",
              "    <tr>\n",
              "      <th>4</th>\n",
              "      <td>vhigh</td>\n",
              "      <td>vhigh</td>\n",
              "      <td>2</td>\n",
              "      <td>2</td>\n",
              "      <td>med</td>\n",
              "      <td>med</td>\n",
              "      <td>unacc</td>\n",
              "    </tr>\n",
              "  </tbody>\n",
              "</table>\n",
              "</div>"
            ],
            "text/plain": [
              "   preco manutencao num_portas lugares porta_malas seguranca avaliacao\n",
              "0  vhigh      vhigh          2       2       small       low     unacc\n",
              "1  vhigh      vhigh          2       2       small       med     unacc\n",
              "2  vhigh      vhigh          2       2       small      high     unacc\n",
              "3  vhigh      vhigh          2       2         med       low     unacc\n",
              "4  vhigh      vhigh          2       2         med       med     unacc"
            ]
          },
          "metadata": {
            "tags": []
          },
          "execution_count": 180
        }
      ]
    },
    {
      "cell_type": "markdown",
      "metadata": {
        "id": "uSy1ZWSbdQnl",
        "colab_type": "text"
      },
      "source": [
        "### **02) Realizar uma análise exploratória para conhecer os dados  (5 pontos)**:"
      ]
    },
    {
      "cell_type": "markdown",
      "metadata": {
        "id": "QcBckGnms3hA",
        "colab_type": "text"
      },
      "source": [
        "Solução"
      ]
    },
    {
      "cell_type": "code",
      "metadata": {
        "id": "F8U5DNxLgMy_",
        "colab_type": "code",
        "colab": {
          "base_uri": "https://localhost:8080/",
          "height": 173
        },
        "outputId": "742639dc-c0f2-4407-f360-336c9da293b0"
      },
      "source": [
        "df.describe()"
      ],
      "execution_count": 181,
      "outputs": [
        {
          "output_type": "execute_result",
          "data": {
            "text/html": [
              "<div>\n",
              "<style scoped>\n",
              "    .dataframe tbody tr th:only-of-type {\n",
              "        vertical-align: middle;\n",
              "    }\n",
              "\n",
              "    .dataframe tbody tr th {\n",
              "        vertical-align: top;\n",
              "    }\n",
              "\n",
              "    .dataframe thead th {\n",
              "        text-align: right;\n",
              "    }\n",
              "</style>\n",
              "<table border=\"1\" class=\"dataframe\">\n",
              "  <thead>\n",
              "    <tr style=\"text-align: right;\">\n",
              "      <th></th>\n",
              "      <th>preco</th>\n",
              "      <th>manutencao</th>\n",
              "      <th>num_portas</th>\n",
              "      <th>lugares</th>\n",
              "      <th>porta_malas</th>\n",
              "      <th>seguranca</th>\n",
              "      <th>avaliacao</th>\n",
              "    </tr>\n",
              "  </thead>\n",
              "  <tbody>\n",
              "    <tr>\n",
              "      <th>count</th>\n",
              "      <td>1728</td>\n",
              "      <td>1728</td>\n",
              "      <td>1728</td>\n",
              "      <td>1728</td>\n",
              "      <td>1728</td>\n",
              "      <td>1728</td>\n",
              "      <td>1728</td>\n",
              "    </tr>\n",
              "    <tr>\n",
              "      <th>unique</th>\n",
              "      <td>4</td>\n",
              "      <td>4</td>\n",
              "      <td>4</td>\n",
              "      <td>3</td>\n",
              "      <td>3</td>\n",
              "      <td>3</td>\n",
              "      <td>4</td>\n",
              "    </tr>\n",
              "    <tr>\n",
              "      <th>top</th>\n",
              "      <td>med</td>\n",
              "      <td>med</td>\n",
              "      <td>3</td>\n",
              "      <td>more</td>\n",
              "      <td>small</td>\n",
              "      <td>med</td>\n",
              "      <td>unacc</td>\n",
              "    </tr>\n",
              "    <tr>\n",
              "      <th>freq</th>\n",
              "      <td>432</td>\n",
              "      <td>432</td>\n",
              "      <td>432</td>\n",
              "      <td>576</td>\n",
              "      <td>576</td>\n",
              "      <td>576</td>\n",
              "      <td>1210</td>\n",
              "    </tr>\n",
              "  </tbody>\n",
              "</table>\n",
              "</div>"
            ],
            "text/plain": [
              "       preco manutencao num_portas lugares porta_malas seguranca avaliacao\n",
              "count   1728       1728       1728    1728        1728      1728      1728\n",
              "unique     4          4          4       3           3         3         4\n",
              "top      med        med          3    more       small       med     unacc\n",
              "freq     432        432        432     576         576       576      1210"
            ]
          },
          "metadata": {
            "tags": []
          },
          "execution_count": 181
        }
      ]
    },
    {
      "cell_type": "code",
      "metadata": {
        "id": "yZosQVZ7gJPg",
        "colab_type": "code",
        "colab": {
          "base_uri": "https://localhost:8080/",
          "height": 248
        },
        "outputId": "c412735c-619a-47cb-c82b-c555f1696ff0"
      },
      "source": [
        "df['avaliacao'].value_counts().plot(kind='pie');"
      ],
      "execution_count": 182,
      "outputs": [
        {
          "output_type": "display_data",
          "data": {
            "image/png": "[encoded data removed]",
            "text/plain": [
              "<Figure size 432x288 with 1 Axes>"
            ]
          },
          "metadata": {
            "tags": []
          }
        }
      ]
    },
    {
      "cell_type": "code",
      "metadata": {
        "id": "uyNcN5lcd4ym",
        "colab_type": "code",
        "colab": {
          "base_uri": "https://localhost:8080/",
          "height": 279
        },
        "outputId": "da908dc4-47d0-4e19-dc1d-e5e5424e8a5e"
      },
      "source": [
        "ax = plt.gca()\n",
        "\n",
        "df.plot(kind='scatter', x='avaliacao', y='manutencao', ax=ax)\n",
        "df.plot(kind='scatter', x='avaliacao', y='preco', color='red', ax=ax)\n",
        "\n",
        "plt.show()"
      ],
      "execution_count": 183,
      "outputs": [
        {
          "output_type": "display_data",
          "data": {
            "image/png": "[encoded data removed]",
            "text/plain": [
              "<Figure size 432x288 with 1 Axes>"
            ]
          },
          "metadata": {
            "tags": [],
            "needs_background": "light"
          }
        }
      ]
    },
    {
      "cell_type": "code",
      "metadata": {
        "id": "aJa6hlooiSDl",
        "colab_type": "code",
        "colab": {
          "base_uri": "https://localhost:8080/",
          "height": 286
        },
        "outputId": "4c49f0c7-e58e-45dc-8000-41c45ffb6a4a"
      },
      "source": [
        "#df['seguranca'].value_counts().plot(kind='bar', color='green');\n",
        "df['avaliacao'].value_counts().plot(kind='bar', color='green');"
      ],
      "execution_count": 184,
      "outputs": [
        {
          "output_type": "display_data",
          "data": {
            "image/png": "[encoded data removed]",
            "text/plain": [
              "<Figure size 432x288 with 1 Axes>"
            ]
          },
          "metadata": {
            "tags": [],
            "needs_background": "light"
          }
        }
      ]
    },
    {
      "cell_type": "code",
      "metadata": {
        "id": "jXXVS279n6HD",
        "colab_type": "code",
        "colab": {
          "base_uri": "https://localhost:8080/",
          "height": 265
        },
        "outputId": "b5c4bbb2-b019-4c9a-d09a-4cfcbe37e89c"
      },
      "source": [
        "#df['porta_malas'].value_counts().plot(kind='area', color='purple');\n",
        "df['avaliacao'].value_counts().plot(kind='area', color='purple');"
      ],
      "execution_count": 185,
      "outputs": [
        {
          "output_type": "display_data",
          "data": {
            "image/png": "[encoded data removed]",
            "text/plain": [
              "<Figure size 432x288 with 1 Axes>"
            ]
          },
          "metadata": {
            "tags": [],
            "needs_background": "light"
          }
        }
      ]
    },
    {
      "cell_type": "markdown",
      "metadata": {
        "id": "snDOUPFudR9e",
        "colab_type": "text"
      },
      "source": [
        "### **03) Realizar as transformações de tipos de dados necessárias (5 pontos)**:\n",
        "\n",
        "**Exemplo**: transformar os dados dos atributos em valores numéricos\n",
        "\n",
        "**Dica**: criar um novo dataframe e depois incluir todas as colunas transformadas\n",
        "\n",
        "```\n",
        "novo_df['coluna'] = df['coluna'].apply(lambda x: 0 if x == 'valor_0' else 1 if x == 'valor_1' else 2)\n",
        "```\n",
        "\n"
      ]
    },
    {
      "cell_type": "markdown",
      "metadata": {
        "id": "m3L4eO9Ys0tk",
        "colab_type": "text"
      },
      "source": [
        "Solução"
      ]
    },
    {
      "cell_type": "code",
      "metadata": {
        "id": "RxOAykB7slyM",
        "colab_type": "code",
        "colab": {
          "base_uri": "https://localhost:8080/",
          "height": 204
        },
        "outputId": "3e44808d-6d6a-4930-cd8b-e4bfbccaf8e5"
      },
      "source": [
        "# visualizar os dados atuais\n",
        "df.head()"
      ],
      "execution_count": 186,
      "outputs": [
        {
          "output_type": "execute_result",
          "data": {
            "text/html": [
              "<div>\n",
              "<style scoped>\n",
              "    .dataframe tbody tr th:only-of-type {\n",
              "        vertical-align: middle;\n",
              "    }\n",
              "\n",
              "    .dataframe tbody tr th {\n",
              "        vertical-align: top;\n",
              "    }\n",
              "\n",
              "    .dataframe thead th {\n",
              "        text-align: right;\n",
              "    }\n",
              "</style>\n",
              "<table border=\"1\" class=\"dataframe\">\n",
              "  <thead>\n",
              "    <tr style=\"text-align: right;\">\n",
              "      <th></th>\n",
              "      <th>preco</th>\n",
              "      <th>manutencao</th>\n",
              "      <th>num_portas</th>\n",
              "      <th>lugares</th>\n",
              "      <th>porta_malas</th>\n",
              "      <th>seguranca</th>\n",
              "      <th>avaliacao</th>\n",
              "    </tr>\n",
              "  </thead>\n",
              "  <tbody>\n",
              "    <tr>\n",
              "      <th>0</th>\n",
              "      <td>vhigh</td>\n",
              "      <td>vhigh</td>\n",
              "      <td>2</td>\n",
              "      <td>2</td>\n",
              "      <td>small</td>\n",
              "      <td>low</td>\n",
              "      <td>unacc</td>\n",
              "    </tr>\n",
              "    <tr>\n",
              "      <th>1</th>\n",
              "      <td>vhigh</td>\n",
              "      <td>vhigh</td>\n",
              "      <td>2</td>\n",
              "      <td>2</td>\n",
              "      <td>small</td>\n",
              "      <td>med</td>\n",
              "      <td>unacc</td>\n",
              "    </tr>\n",
              "    <tr>\n",
              "      <th>2</th>\n",
              "      <td>vhigh</td>\n",
              "      <td>vhigh</td>\n",
              "      <td>2</td>\n",
              "      <td>2</td>\n",
              "      <td>small</td>\n",
              "      <td>high</td>\n",
              "      <td>unacc</td>\n",
              "    </tr>\n",
              "    <tr>\n",
              "      <th>3</th>\n",
              "      <td>vhigh</td>\n",
              "      <td>vhigh</td>\n",
              "      <td>2</td>\n",
              "      <td>2</td>\n",
              "      <td>med</td>\n",
              "      <td>low</td>\n",
              "      <td>unacc</td>\n",
              "    </tr>\n",
              "    <tr>\n",
              "      <th>4</th>\n",
              "      <td>vhigh</td>\n",
              "      <td>vhigh</td>\n",
              "      <td>2</td>\n",
              "      <td>2</td>\n",
              "      <td>med</td>\n",
              "      <td>med</td>\n",
              "      <td>unacc</td>\n",
              "    </tr>\n",
              "  </tbody>\n",
              "</table>\n",
              "</div>"
            ],
            "text/plain": [
              "   preco manutencao num_portas lugares porta_malas seguranca avaliacao\n",
              "0  vhigh      vhigh          2       2       small       low     unacc\n",
              "1  vhigh      vhigh          2       2       small       med     unacc\n",
              "2  vhigh      vhigh          2       2       small      high     unacc\n",
              "3  vhigh      vhigh          2       2         med       low     unacc\n",
              "4  vhigh      vhigh          2       2         med       med     unacc"
            ]
          },
          "metadata": {
            "tags": []
          },
          "execution_count": 186
        }
      ]
    },
    {
      "cell_type": "code",
      "metadata": {
        "id": "85TOHxlPlkyo",
        "colab_type": "code",
        "colab": {
          "base_uri": "https://localhost:8080/",
          "height": 34
        },
        "outputId": "58e5d892-9da5-46b6-96ff-e1bc3252fe65"
      },
      "source": [
        "# aplicar as transformações de dados ao novo_df\n",
        "novo_df = pd.DataFrame()\n",
        "\n",
        "novo_df['preco_encod'] = df['preco'].apply(lambda x: 0 if x == 'low' else 1 if x == 'med' else 2 if x == 'high' else 3)\n",
        "novo_df['manutencao_encod'] = df['manutencao'].apply(lambda x: 0 if x == 'low' else 1 if x == 'med' else 2 if x == 'high' else 3)\n",
        "novo_df['num_portas_encod'] = df['num_portas'].apply(lambda x: 0 if x == '2' else 1 if x == '3' else 2 if x == '4' else 3)\n",
        "novo_df['lugares_encod'] = df['lugares'].apply(lambda x: 0 if x == '2' else 1 if x == '4' else 2)\n",
        "novo_df['porta_malas_encod'] = df['porta_malas'].apply(lambda x: 0 if x == 'small' else 1 if x == 'med' else 2)\n",
        "novo_df['segurancao_encod'] = df['seguranca'].apply(lambda x: 0 if x == 'low' else 1 if x == 'med' else 2)\n",
        "novo_df['avaliacao_encod'] = df['avaliacao'].apply(lambda x: 0 if x == 'unacc' else 1 if x == 'acc' else 2 if x == 'good' else 3)\n",
        "\n",
        "novo_df['avaliacao_encod'].unique()"
      ],
      "execution_count": 187,
      "outputs": [
        {
          "output_type": "execute_result",
          "data": {
            "text/plain": [
              "array([0, 1, 3, 2])"
            ]
          },
          "metadata": {
            "tags": []
          },
          "execution_count": 187
        }
      ]
    },
    {
      "cell_type": "code",
      "metadata": {
        "id": "n51KzTxwlSWS",
        "colab_type": "code",
        "colab": {
          "base_uri": "https://localhost:8080/",
          "height": 224
        },
        "outputId": "85bf6a6a-cd38-4c8e-ebb2-51b1d5a4947b"
      },
      "source": [
        "# visualizar as modificacoes\n",
        "novo_df.head()"
      ],
      "execution_count": 188,
      "outputs": [
        {
          "output_type": "execute_result",
          "data": {
            "text/html": [
              "<div>\n",
              "<style scoped>\n",
              "    .dataframe tbody tr th:only-of-type {\n",
              "        vertical-align: middle;\n",
              "    }\n",
              "\n",
              "    .dataframe tbody tr th {\n",
              "        vertical-align: top;\n",
              "    }\n",
              "\n",
              "    .dataframe thead th {\n",
              "        text-align: right;\n",
              "    }\n",
              "</style>\n",
              "<table border=\"1\" class=\"dataframe\">\n",
              "  <thead>\n",
              "    <tr style=\"text-align: right;\">\n",
              "      <th></th>\n",
              "      <th>preco_encod</th>\n",
              "      <th>manutencao_encod</th>\n",
              "      <th>num_portas_encod</th>\n",
              "      <th>lugares_encod</th>\n",
              "      <th>porta_malas_encod</th>\n",
              "      <th>segurancao_encod</th>\n",
              "      <th>avaliacao_encod</th>\n",
              "    </tr>\n",
              "  </thead>\n",
              "  <tbody>\n",
              "    <tr>\n",
              "      <th>0</th>\n",
              "      <td>3</td>\n",
              "      <td>3</td>\n",
              "      <td>0</td>\n",
              "      <td>0</td>\n",
              "      <td>0</td>\n",
              "      <td>0</td>\n",
              "      <td>0</td>\n",
              "    </tr>\n",
              "    <tr>\n",
              "      <th>1</th>\n",
              "      <td>3</td>\n",
              "      <td>3</td>\n",
              "      <td>0</td>\n",
              "      <td>0</td>\n",
              "      <td>0</td>\n",
              "      <td>1</td>\n",
              "      <td>0</td>\n",
              "    </tr>\n",
              "    <tr>\n",
              "      <th>2</th>\n",
              "      <td>3</td>\n",
              "      <td>3</td>\n",
              "      <td>0</td>\n",
              "      <td>0</td>\n",
              "      <td>0</td>\n",
              "      <td>2</td>\n",
              "      <td>0</td>\n",
              "    </tr>\n",
              "    <tr>\n",
              "      <th>3</th>\n",
              "      <td>3</td>\n",
              "      <td>3</td>\n",
              "      <td>0</td>\n",
              "      <td>0</td>\n",
              "      <td>1</td>\n",
              "      <td>0</td>\n",
              "      <td>0</td>\n",
              "    </tr>\n",
              "    <tr>\n",
              "      <th>4</th>\n",
              "      <td>3</td>\n",
              "      <td>3</td>\n",
              "      <td>0</td>\n",
              "      <td>0</td>\n",
              "      <td>1</td>\n",
              "      <td>1</td>\n",
              "      <td>0</td>\n",
              "    </tr>\n",
              "  </tbody>\n",
              "</table>\n",
              "</div>"
            ],
            "text/plain": [
              "   preco_encod  manutencao_encod  ...  segurancao_encod  avaliacao_encod\n",
              "0            3                 3  ...                 0                0\n",
              "1            3                 3  ...                 1                0\n",
              "2            3                 3  ...                 2                0\n",
              "3            3                 3  ...                 0                0\n",
              "4            3                 3  ...                 1                0\n",
              "\n",
              "[5 rows x 7 columns]"
            ]
          },
          "metadata": {
            "tags": []
          },
          "execution_count": 188
        }
      ]
    },
    {
      "cell_type": "code",
      "metadata": {
        "id": "S7DA9c8koo6N",
        "colab_type": "code",
        "colab": {
          "base_uri": "https://localhost:8080/",
          "height": 317
        },
        "outputId": "2e6f482b-c247-48b1-b810-6d2590bbdb4d"
      },
      "source": [
        "novo_df.describe()"
      ],
      "execution_count": 189,
      "outputs": [
        {
          "output_type": "execute_result",
          "data": {
            "text/html": [
              "<div>\n",
              "<style scoped>\n",
              "    .dataframe tbody tr th:only-of-type {\n",
              "        vertical-align: middle;\n",
              "    }\n",
              "\n",
              "    .dataframe tbody tr th {\n",
              "        vertical-align: top;\n",
              "    }\n",
              "\n",
              "    .dataframe thead th {\n",
              "        text-align: right;\n",
              "    }\n",
              "</style>\n",
              "<table border=\"1\" class=\"dataframe\">\n",
              "  <thead>\n",
              "    <tr style=\"text-align: right;\">\n",
              "      <th></th>\n",
              "      <th>preco_encod</th>\n",
              "      <th>manutencao_encod</th>\n",
              "      <th>num_portas_encod</th>\n",
              "      <th>lugares_encod</th>\n",
              "      <th>porta_malas_encod</th>\n",
              "      <th>segurancao_encod</th>\n",
              "      <th>avaliacao_encod</th>\n",
              "    </tr>\n",
              "  </thead>\n",
              "  <tbody>\n",
              "    <tr>\n",
              "      <th>count</th>\n",
              "      <td>1728.000000</td>\n",
              "      <td>1728.000000</td>\n",
              "      <td>1728.000000</td>\n",
              "      <td>1728.000000</td>\n",
              "      <td>1728.000000</td>\n",
              "      <td>1728.000000</td>\n",
              "      <td>1728.000000</td>\n",
              "    </tr>\n",
              "    <tr>\n",
              "      <th>mean</th>\n",
              "      <td>1.500000</td>\n",
              "      <td>1.500000</td>\n",
              "      <td>1.500000</td>\n",
              "      <td>1.000000</td>\n",
              "      <td>1.000000</td>\n",
              "      <td>1.000000</td>\n",
              "      <td>0.414931</td>\n",
              "    </tr>\n",
              "    <tr>\n",
              "      <th>std</th>\n",
              "      <td>1.118358</td>\n",
              "      <td>1.118358</td>\n",
              "      <td>1.118358</td>\n",
              "      <td>0.816733</td>\n",
              "      <td>0.816733</td>\n",
              "      <td>0.816733</td>\n",
              "      <td>0.740700</td>\n",
              "    </tr>\n",
              "    <tr>\n",
              "      <th>min</th>\n",
              "      <td>0.000000</td>\n",
              "      <td>0.000000</td>\n",
              "      <td>0.000000</td>\n",
              "      <td>0.000000</td>\n",
              "      <td>0.000000</td>\n",
              "      <td>0.000000</td>\n",
              "      <td>0.000000</td>\n",
              "    </tr>\n",
              "    <tr>\n",
              "      <th>25%</th>\n",
              "      <td>0.750000</td>\n",
              "      <td>0.750000</td>\n",
              "      <td>0.750000</td>\n",
              "      <td>0.000000</td>\n",
              "      <td>0.000000</td>\n",
              "      <td>0.000000</td>\n",
              "      <td>0.000000</td>\n",
              "    </tr>\n",
              "    <tr>\n",
              "      <th>50%</th>\n",
              "      <td>1.500000</td>\n",
              "      <td>1.500000</td>\n",
              "      <td>1.500000</td>\n",
              "      <td>1.000000</td>\n",
              "      <td>1.000000</td>\n",
              "      <td>1.000000</td>\n",
              "      <td>0.000000</td>\n",
              "    </tr>\n",
              "    <tr>\n",
              "      <th>75%</th>\n",
              "      <td>2.250000</td>\n",
              "      <td>2.250000</td>\n",
              "      <td>2.250000</td>\n",
              "      <td>2.000000</td>\n",
              "      <td>2.000000</td>\n",
              "      <td>2.000000</td>\n",
              "      <td>1.000000</td>\n",
              "    </tr>\n",
              "    <tr>\n",
              "      <th>max</th>\n",
              "      <td>3.000000</td>\n",
              "      <td>3.000000</td>\n",
              "      <td>3.000000</td>\n",
              "      <td>2.000000</td>\n",
              "      <td>2.000000</td>\n",
              "      <td>2.000000</td>\n",
              "      <td>3.000000</td>\n",
              "    </tr>\n",
              "  </tbody>\n",
              "</table>\n",
              "</div>"
            ],
            "text/plain": [
              "       preco_encod  manutencao_encod  ...  segurancao_encod  avaliacao_encod\n",
              "count  1728.000000       1728.000000  ...       1728.000000      1728.000000\n",
              "mean      1.500000          1.500000  ...          1.000000         0.414931\n",
              "std       1.118358          1.118358  ...          0.816733         0.740700\n",
              "min       0.000000          0.000000  ...          0.000000         0.000000\n",
              "25%       0.750000          0.750000  ...          0.000000         0.000000\n",
              "50%       1.500000          1.500000  ...          1.000000         0.000000\n",
              "75%       2.250000          2.250000  ...          2.000000         1.000000\n",
              "max       3.000000          3.000000  ...          2.000000         3.000000\n",
              "\n",
              "[8 rows x 7 columns]"
            ]
          },
          "metadata": {
            "tags": []
          },
          "execution_count": 189
        }
      ]
    },
    {
      "cell_type": "markdown",
      "metadata": {
        "id": "x4_rmxIMqSUd",
        "colab_type": "text"
      },
      "source": [
        "### **04) Preparar os conjuntos de dados (5 pontos)**:"
      ]
    },
    {
      "cell_type": "markdown",
      "metadata": {
        "id": "G2F8a_Oyql3z",
        "colab_type": "text"
      },
      "source": [
        "Separar o novo dataframe transformado em dois conjuntos X e y, onde X terá os **atributos** e em y terá apenas a coluna referente à classe **avaliacao**"
      ]
    },
    {
      "cell_type": "code",
      "metadata": {
        "id": "rDCsNrzgqRe-",
        "colab_type": "code",
        "colab": {
          "base_uri": "https://localhost:8080/",
          "height": 204
        },
        "outputId": "3e121ce5-48a4-4bf0-b0e0-065b24616428"
      },
      "source": [
        "# separar o novo dataframe\n",
        "novo_df.head()\n",
        "\n",
        "y = novo_df[['avaliacao_encod']]\n",
        "y.head()\n",
        "\n",
        "X = novo_df.iloc[:, 0:6]\n",
        "X.head()"
      ],
      "execution_count": 190,
      "outputs": [
        {
          "output_type": "execute_result",
          "data": {
            "text/html": [
              "<div>\n",
              "<style scoped>\n",
              "    .dataframe tbody tr th:only-of-type {\n",
              "        vertical-align: middle;\n",
              "    }\n",
              "\n",
              "    .dataframe tbody tr th {\n",
              "        vertical-align: top;\n",
              "    }\n",
              "\n",
              "    .dataframe thead th {\n",
              "        text-align: right;\n",
              "    }\n",
              "</style>\n",
              "<table border=\"1\" class=\"dataframe\">\n",
              "  <thead>\n",
              "    <tr style=\"text-align: right;\">\n",
              "      <th></th>\n",
              "      <th>preco_encod</th>\n",
              "      <th>manutencao_encod</th>\n",
              "      <th>num_portas_encod</th>\n",
              "      <th>lugares_encod</th>\n",
              "      <th>porta_malas_encod</th>\n",
              "      <th>segurancao_encod</th>\n",
              "    </tr>\n",
              "  </thead>\n",
              "  <tbody>\n",
              "    <tr>\n",
              "      <th>0</th>\n",
              "      <td>3</td>\n",
              "      <td>3</td>\n",
              "      <td>0</td>\n",
              "      <td>0</td>\n",
              "      <td>0</td>\n",
              "      <td>0</td>\n",
              "    </tr>\n",
              "    <tr>\n",
              "      <th>1</th>\n",
              "      <td>3</td>\n",
              "      <td>3</td>\n",
              "      <td>0</td>\n",
              "      <td>0</td>\n",
              "      <td>0</td>\n",
              "      <td>1</td>\n",
              "    </tr>\n",
              "    <tr>\n",
              "      <th>2</th>\n",
              "      <td>3</td>\n",
              "      <td>3</td>\n",
              "      <td>0</td>\n",
              "      <td>0</td>\n",
              "      <td>0</td>\n",
              "      <td>2</td>\n",
              "    </tr>\n",
              "    <tr>\n",
              "      <th>3</th>\n",
              "      <td>3</td>\n",
              "      <td>3</td>\n",
              "      <td>0</td>\n",
              "      <td>0</td>\n",
              "      <td>1</td>\n",
              "      <td>0</td>\n",
              "    </tr>\n",
              "    <tr>\n",
              "      <th>4</th>\n",
              "      <td>3</td>\n",
              "      <td>3</td>\n",
              "      <td>0</td>\n",
              "      <td>0</td>\n",
              "      <td>1</td>\n",
              "      <td>1</td>\n",
              "    </tr>\n",
              "  </tbody>\n",
              "</table>\n",
              "</div>"
            ],
            "text/plain": [
              "   preco_encod  manutencao_encod  ...  porta_malas_encod  segurancao_encod\n",
              "0            3                 3  ...                  0                 0\n",
              "1            3                 3  ...                  0                 1\n",
              "2            3                 3  ...                  0                 2\n",
              "3            3                 3  ...                  1                 0\n",
              "4            3                 3  ...                  1                 1\n",
              "\n",
              "[5 rows x 6 columns]"
            ]
          },
          "metadata": {
            "tags": []
          },
          "execution_count": 190
        }
      ]
    },
    {
      "cell_type": "code",
      "metadata": {
        "id": "GGeZdElvrDRu",
        "colab_type": "code",
        "colab": {
          "base_uri": "https://localhost:8080/",
          "height": 297
        },
        "outputId": "34394199-fbe3-430c-de0c-f803e04d0771"
      },
      "source": [
        "X.describe()"
      ],
      "execution_count": 191,
      "outputs": [
        {
          "output_type": "execute_result",
          "data": {
            "text/html": [
              "<div>\n",
              "<style scoped>\n",
              "    .dataframe tbody tr th:only-of-type {\n",
              "        vertical-align: middle;\n",
              "    }\n",
              "\n",
              "    .dataframe tbody tr th {\n",
              "        vertical-align: top;\n",
              "    }\n",
              "\n",
              "    .dataframe thead th {\n",
              "        text-align: right;\n",
              "    }\n",
              "</style>\n",
              "<table border=\"1\" class=\"dataframe\">\n",
              "  <thead>\n",
              "    <tr style=\"text-align: right;\">\n",
              "      <th></th>\n",
              "      <th>preco_encod</th>\n",
              "      <th>manutencao_encod</th>\n",
              "      <th>num_portas_encod</th>\n",
              "      <th>lugares_encod</th>\n",
              "      <th>porta_malas_encod</th>\n",
              "      <th>segurancao_encod</th>\n",
              "    </tr>\n",
              "  </thead>\n",
              "  <tbody>\n",
              "    <tr>\n",
              "      <th>count</th>\n",
              "      <td>1728.000000</td>\n",
              "      <td>1728.000000</td>\n",
              "      <td>1728.000000</td>\n",
              "      <td>1728.000000</td>\n",
              "      <td>1728.000000</td>\n",
              "      <td>1728.000000</td>\n",
              "    </tr>\n",
              "    <tr>\n",
              "      <th>mean</th>\n",
              "      <td>1.500000</td>\n",
              "      <td>1.500000</td>\n",
              "      <td>1.500000</td>\n",
              "      <td>1.000000</td>\n",
              "      <td>1.000000</td>\n",
              "      <td>1.000000</td>\n",
              "    </tr>\n",
              "    <tr>\n",
              "      <th>std</th>\n",
              "      <td>1.118358</td>\n",
              "      <td>1.118358</td>\n",
              "      <td>1.118358</td>\n",
              "      <td>0.816733</td>\n",
              "      <td>0.816733</td>\n",
              "      <td>0.816733</td>\n",
              "    </tr>\n",
              "    <tr>\n",
              "      <th>min</th>\n",
              "      <td>0.000000</td>\n",
              "      <td>0.000000</td>\n",
              "      <td>0.000000</td>\n",
              "      <td>0.000000</td>\n",
              "      <td>0.000000</td>\n",
              "      <td>0.000000</td>\n",
              "    </tr>\n",
              "    <tr>\n",
              "      <th>25%</th>\n",
              "      <td>0.750000</td>\n",
              "      <td>0.750000</td>\n",
              "      <td>0.750000</td>\n",
              "      <td>0.000000</td>\n",
              "      <td>0.000000</td>\n",
              "      <td>0.000000</td>\n",
              "    </tr>\n",
              "    <tr>\n",
              "      <th>50%</th>\n",
              "      <td>1.500000</td>\n",
              "      <td>1.500000</td>\n",
              "      <td>1.500000</td>\n",
              "      <td>1.000000</td>\n",
              "      <td>1.000000</td>\n",
              "      <td>1.000000</td>\n",
              "    </tr>\n",
              "    <tr>\n",
              "      <th>75%</th>\n",
              "      <td>2.250000</td>\n",
              "      <td>2.250000</td>\n",
              "      <td>2.250000</td>\n",
              "      <td>2.000000</td>\n",
              "      <td>2.000000</td>\n",
              "      <td>2.000000</td>\n",
              "    </tr>\n",
              "    <tr>\n",
              "      <th>max</th>\n",
              "      <td>3.000000</td>\n",
              "      <td>3.000000</td>\n",
              "      <td>3.000000</td>\n",
              "      <td>2.000000</td>\n",
              "      <td>2.000000</td>\n",
              "      <td>2.000000</td>\n",
              "    </tr>\n",
              "  </tbody>\n",
              "</table>\n",
              "</div>"
            ],
            "text/plain": [
              "       preco_encod  manutencao_encod  ...  porta_malas_encod  segurancao_encod\n",
              "count  1728.000000       1728.000000  ...        1728.000000       1728.000000\n",
              "mean      1.500000          1.500000  ...           1.000000          1.000000\n",
              "std       1.118358          1.118358  ...           0.816733          0.816733\n",
              "min       0.000000          0.000000  ...           0.000000          0.000000\n",
              "25%       0.750000          0.750000  ...           0.000000          0.000000\n",
              "50%       1.500000          1.500000  ...           1.000000          1.000000\n",
              "75%       2.250000          2.250000  ...           2.000000          2.000000\n",
              "max       3.000000          3.000000  ...           2.000000          2.000000\n",
              "\n",
              "[8 rows x 6 columns]"
            ]
          },
          "metadata": {
            "tags": []
          },
          "execution_count": 191
        }
      ]
    },
    {
      "cell_type": "code",
      "metadata": {
        "id": "Jm2MEYg7rY-A",
        "colab_type": "code",
        "colab": {
          "base_uri": "https://localhost:8080/",
          "height": 297
        },
        "outputId": "8d5d8793-a813-4b3a-f889-66221657adc2"
      },
      "source": [
        "y.describe()"
      ],
      "execution_count": 192,
      "outputs": [
        {
          "output_type": "execute_result",
          "data": {
            "text/html": [
              "<div>\n",
              "<style scoped>\n",
              "    .dataframe tbody tr th:only-of-type {\n",
              "        vertical-align: middle;\n",
              "    }\n",
              "\n",
              "    .dataframe tbody tr th {\n",
              "        vertical-align: top;\n",
              "    }\n",
              "\n",
              "    .dataframe thead th {\n",
              "        text-align: right;\n",
              "    }\n",
              "</style>\n",
              "<table border=\"1\" class=\"dataframe\">\n",
              "  <thead>\n",
              "    <tr style=\"text-align: right;\">\n",
              "      <th></th>\n",
              "      <th>avaliacao_encod</th>\n",
              "    </tr>\n",
              "  </thead>\n",
              "  <tbody>\n",
              "    <tr>\n",
              "      <th>count</th>\n",
              "      <td>1728.000000</td>\n",
              "    </tr>\n",
              "    <tr>\n",
              "      <th>mean</th>\n",
              "      <td>0.414931</td>\n",
              "    </tr>\n",
              "    <tr>\n",
              "      <th>std</th>\n",
              "      <td>0.740700</td>\n",
              "    </tr>\n",
              "    <tr>\n",
              "      <th>min</th>\n",
              "      <td>0.000000</td>\n",
              "    </tr>\n",
              "    <tr>\n",
              "      <th>25%</th>\n",
              "      <td>0.000000</td>\n",
              "    </tr>\n",
              "    <tr>\n",
              "      <th>50%</th>\n",
              "      <td>0.000000</td>\n",
              "    </tr>\n",
              "    <tr>\n",
              "      <th>75%</th>\n",
              "      <td>1.000000</td>\n",
              "    </tr>\n",
              "    <tr>\n",
              "      <th>max</th>\n",
              "      <td>3.000000</td>\n",
              "    </tr>\n",
              "  </tbody>\n",
              "</table>\n",
              "</div>"
            ],
            "text/plain": [
              "       avaliacao_encod\n",
              "count      1728.000000\n",
              "mean          0.414931\n",
              "std           0.740700\n",
              "min           0.000000\n",
              "25%           0.000000\n",
              "50%           0.000000\n",
              "75%           1.000000\n",
              "max           3.000000"
            ]
          },
          "metadata": {
            "tags": []
          },
          "execution_count": 192
        }
      ]
    },
    {
      "cell_type": "markdown",
      "metadata": {
        "id": "ocYrwexPqmg7",
        "colab_type": "text"
      },
      "source": [
        "Separar o novo dataframe nos conjuntos de **treino** (80% dos dados) e **teste** (20% dos dados) para respectivamente treinar e testar o classificador, gerando os conjuntos `X_train`, `X_test`, `y_train`, `y_test`"
      ]
    },
    {
      "cell_type": "code",
      "metadata": {
        "id": "jziL5yF-qnE-",
        "colab_type": "code",
        "colab": {}
      },
      "source": [
        "# gerar os conjuntos para treino e teste\n",
        "X_train, X_test, y_train, y_test = train_test_split(X, y, test_size=0.2, random_state=0, stratify=y)"
      ],
      "execution_count": 193,
      "outputs": []
    },
    {
      "cell_type": "code",
      "metadata": {
        "id": "HBd4PbPkwwII",
        "colab_type": "code",
        "colab": {
          "base_uri": "https://localhost:8080/",
          "height": 153
        },
        "outputId": "b2c65d6e-b8bf-41c1-c7f7-4b11e1aeb12f"
      },
      "source": [
        "# validar a separação\n",
        "print(np.shape(X))\n",
        "print(np.shape(y))\n",
        "print()\n",
        "print(np.shape(X_train))\n",
        "print(np.shape(X_test))\n",
        "print()\n",
        "print(np.shape(y_train))\n",
        "print(np.shape(y_test))"
      ],
      "execution_count": 194,
      "outputs": [
        {
          "output_type": "stream",
          "text": [
            "(1728, 6)\n",
            "(1728, 1)\n",
            "\n",
            "(1382, 6)\n",
            "(346, 6)\n",
            "\n",
            "(1382, 1)\n",
            "(346, 1)\n"
          ],
          "name": "stdout"
        }
      ]
    },
    {
      "cell_type": "markdown",
      "metadata": {
        "id": "q66Td5NlxFqc",
        "colab_type": "text"
      },
      "source": [
        "### **05) Treinar e testar o classificador (5 pontos)**:\n",
        "\n",
        "Escolher o método de classificação que quiser para treinar e testar o classificador. \n",
        "\n",
        "Você está livre para escolher o método de classificação que quiser. \n"
      ]
    },
    {
      "cell_type": "markdown",
      "metadata": {
        "id": "bzm4FWuGxX6M",
        "colab_type": "text"
      },
      "source": [
        "Solução"
      ]
    },
    {
      "cell_type": "code",
      "metadata": {
        "id": "mPRmCh1LxY90",
        "colab_type": "code",
        "colab": {
          "base_uri": "https://localhost:8080/",
          "height": 68
        },
        "outputId": "dc8fe084-0662-4f8a-be25-01c933ad088e"
      },
      "source": [
        "# treinar o classificador\n",
        "m = KNeighborsClassifier()\n",
        "m.fit(X_train, np.ravel(y_train))"
      ],
      "execution_count": 195,
      "outputs": [
        {
          "output_type": "execute_result",
          "data": {
            "text/plain": [
              "KNeighborsClassifier(algorithm='auto', leaf_size=30, metric='minkowski',\n",
              "                     metric_params=None, n_jobs=None, n_neighbors=5, p=2,\n",
              "                     weights='uniform')"
            ]
          },
          "metadata": {
            "tags": []
          },
          "execution_count": 195
        }
      ]
    },
    {
      "cell_type": "code",
      "metadata": {
        "id": "BLsv00plyFb1",
        "colab_type": "code",
        "colab": {}
      },
      "source": [
        "# testar o classificador e gerar as predições\n",
        "np.ravel(y_train)\n",
        "preditas = m.predict(X_test.iloc[0:35])\n",
        "reais = np.ravel(y_test[0:35])"
      ],
      "execution_count": 196,
      "outputs": []
    },
    {
      "cell_type": "code",
      "metadata": {
        "id": "24nYW1iCyZmY",
        "colab_type": "code",
        "colab": {
          "base_uri": "https://localhost:8080/",
          "height": 51
        },
        "outputId": "eaa10e75-5586-4bb1-968c-0bd29c6734f0"
      },
      "source": [
        "# comparar algumas predições do classificador com as classes reais\n",
        "print('Classes preditas: ', preditas)\n",
        "print('Classes reais...: ', reais)"
      ],
      "execution_count": 197,
      "outputs": [
        {
          "output_type": "stream",
          "text": [
            "Classes preditas:  [0 0 0 1 0 0 0 0 1 0 0 3 1 0 0 0 0 0 1 0 0 0 0 0 1 0 0 0 0 2 0 2 1 1 2]\n",
            "Classes reais...:  [0 0 0 1 0 0 0 0 1 0 0 3 1 0 0 0 0 0 1 0 0 0 0 0 1 0 0 0 0 2 0 2 1 1 2]\n"
          ],
          "name": "stdout"
        }
      ]
    },
    {
      "cell_type": "markdown",
      "metadata": {
        "id": "Ft9pg1HJypy8",
        "colab_type": "text"
      },
      "source": [
        "### **06) Avaliação do classificador (5 pontos)**:\n",
        "\n",
        "Apresentar a acurácia e a matriz de confusão do seu classificador. Se der tempo, você ainda apresentar o resultado de outros classificadores para comparação."
      ]
    },
    {
      "cell_type": "markdown",
      "metadata": {
        "id": "2bP1K30Ly2b7",
        "colab_type": "text"
      },
      "source": [
        "Solução"
      ]
    },
    {
      "cell_type": "code",
      "metadata": {
        "id": "K7YYtyvoy3P7",
        "colab_type": "code",
        "colab": {
          "base_uri": "https://localhost:8080/",
          "height": 34
        },
        "outputId": "db4ce723-3f69-43db-ded9-56b8f6e49c1e"
      },
      "source": [
        "# apresentar a acurácia do classificador\n",
        "m.score(X_test, y_test)"
      ],
      "execution_count": 198,
      "outputs": [
        {
          "output_type": "execute_result",
          "data": {
            "text/plain": [
              "0.9450867052023122"
            ]
          },
          "metadata": {
            "tags": []
          },
          "execution_count": 198
        }
      ]
    },
    {
      "cell_type": "code",
      "metadata": {
        "id": "8vzVLElPy6ot",
        "colab_type": "code",
        "colab": {
          "base_uri": "https://localhost:8080/",
          "height": 85
        },
        "outputId": "9c41a282-09b4-42a0-929c-2ed245b5b293"
      },
      "source": [
        "# apresentar a matriz de confusão do classificador\n",
        "confusion_matrix(y_test, m.predict(X_test))"
      ],
      "execution_count": 199,
      "outputs": [
        {
          "output_type": "execute_result",
          "data": {
            "text/plain": [
              "array([[238,   4,   0,   0],\n",
              "       [  8,  69,   0,   0],\n",
              "       [  1,   1,  12,   0],\n",
              "       [  0,   2,   3,   8]])"
            ]
          },
          "metadata": {
            "tags": []
          },
          "execution_count": 199
        }
      ]
    },
    {
      "cell_type": "code",
      "metadata": {
        "id": "sdDW79Of7q4b",
        "colab_type": "code",
        "colab": {
          "base_uri": "https://localhost:8080/",
          "height": 119
        },
        "outputId": "851cc696-cc49-4a74-a24c-90c47a454d9b"
      },
      "source": [
        "# resultado de outros classificadores\n",
        "gnb = GaussianNB()\n",
        "gnb.fit(X_train, np.ravel(y_train))\n",
        "\n",
        "print(gnb.score(X_test, y_test), '\\n')\n",
        "confusion_matrix(y_test, gnb.predict(X_test))"
      ],
      "execution_count": 200,
      "outputs": [
        {
          "output_type": "stream",
          "text": [
            "0.708092485549133 \n",
            "\n"
          ],
          "name": "stdout"
        },
        {
          "output_type": "execute_result",
          "data": {
            "text/plain": [
              "array([[213,   6,   0,  23],\n",
              "       [ 30,  16,   4,  27],\n",
              "       [  2,   1,   3,   8],\n",
              "       [  0,   0,   0,  13]])"
            ]
          },
          "metadata": {
            "tags": []
          },
          "execution_count": 200
        }
      ]
    },
    {
      "cell_type": "markdown",
      "metadata": {
        "id": "dMp67WhF03zo",
        "colab_type": "text"
      },
      "source": [
        "### <font color='red'>ATENÇÃO:<font>\n",
        "Para salvar a avaliação e realizar o upload no Google Forms da prova, use uma das opções abaixo:\n",
        "\n",
        "*   **Jupyter Notebook**: opção do menu \"File --> Download as --> Notebook (.ipynb)\n",
        "*   **Google Colaboratory**: opção do menu \"File --> Download .ipynb\"\n",
        "\n",
        "\n",
        "Salve o seu arquivo com o nome <font color='red'>**SeuNome_3a_avalicao.ipynb**</font>"
      ]
    }
  ]
}