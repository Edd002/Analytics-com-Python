{
  "nbformat": 4,
  "nbformat_minor": 0,
  "metadata": {
    "kernelspec": {
      "display_name": "Python 3",
      "language": "python",
      "name": "python3"
    },
    "language_info": {
      "codemirror_mode": {
        "name": "ipython",
        "version": 3
      },
      "file_extension": ".py",
      "mimetype": "text/x-python",
      "name": "python",
      "nbconvert_exporter": "python",
      "pygments_lexer": "ipython3",
      "version": "3.7.4"
    },
    "colab": {
      "name": "AP_Lista_de_exercícios_06_analise_de_dados.ipynb",
      "provenance": [],
      "collapsed_sections": []
    }
  },
  "cells": [
    {
      "cell_type": "markdown",
      "metadata": {
        "id": "Ve2cOW3-EnxE",
        "colab_type": "text"
      },
      "source": [
        "# <font color='blue'>FUMEC - Analytics com Python</font>\n",
        "## **Lista de exercícios 06 - Análise de dados**\n",
        "\n",
        "### <font color='red'>ATENÇÃO:<font>\n",
        "Para salvar o exercício e postar no SINEF, use uma das opções abaixo:\n",
        "\n",
        "*   **Jupyter Notebook**: opção do menu \"File --> Download as --> Notebook (.ipynb)\n",
        "*   **Google Colaboratory**: opção do menu \"File --> Download .ipynb\"\n",
        "\n",
        "\n",
        "Salve o seu arquivo com o nome <font color='red'>**SeuNome_lista06.ipynb**</font>\n",
        "\n",
        "\n",
        "\n",
        "---"
      ]
    },
    {
      "cell_type": "markdown",
      "metadata": {
        "colab_type": "text",
        "id": "BtMjSfBLc1tL"
      },
      "source": [
        "### **01) Criar ou buscar da web um arquivo `CSV` com pelo menos 5 colunas de dados e carregá-lo como um data frame da biblioteca `pandas`**"
      ]
    },
    {
      "cell_type": "code",
      "metadata": {
        "id": "L0PuBYqxEnxO",
        "colab_type": "code",
        "outputId": "28400190-b9a4-426d-b8ca-c52a8c16ae5d",
        "colab": {
          "base_uri": "https://localhost:8080/",
          "height": 453
        }
      },
      "source": [
        "# exercício 01\n",
        "\n",
        "import pandas as pd\n",
        "import numpy as np\n",
        "\n",
        "modelo_df = pd.read_csv('/content/drive/My Drive/business-price-indexes-march-2020-quarter-csv.csv')\n",
        "modelo_df"
      ],
      "execution_count": 8,
      "outputs": [
        {
          "output_type": "stream",
          "text": [
            "/usr/local/lib/python3.6/dist-packages/IPython/core/interactiveshell.py:2718: DtypeWarning: Columns (8) have mixed types.Specify dtype option on import or set low_memory=False.\n",
            "  interactivity=interactivity, compiler=compiler, result=result)\n"
          ],
          "name": "stderr"
        },
        {
          "output_type": "execute_result",
          "data": {
            "text/html": [
              "<div>\n",
              "<style scoped>\n",
              "    .dataframe tbody tr th:only-of-type {\n",
              "        vertical-align: middle;\n",
              "    }\n",
              "\n",
              "    .dataframe tbody tr th {\n",
              "        vertical-align: top;\n",
              "    }\n",
              "\n",
              "    .dataframe thead th {\n",
              "        text-align: right;\n",
              "    }\n",
              "</style>\n",
              "<table border=\"1\" class=\"dataframe\">\n",
              "  <thead>\n",
              "    <tr style=\"text-align: right;\">\n",
              "      <th></th>\n",
              "      <th>Series_reference</th>\n",
              "      <th>Period</th>\n",
              "      <th>Data_value</th>\n",
              "      <th>STATUS</th>\n",
              "      <th>UNITS</th>\n",
              "      <th>Subject</th>\n",
              "      <th>Group</th>\n",
              "      <th>Series_title_1</th>\n",
              "      <th>Series_title_2</th>\n",
              "      <th>Series_title_3</th>\n",
              "      <th>Series_title_4</th>\n",
              "      <th>Series_title_5</th>\n",
              "    </tr>\n",
              "  </thead>\n",
              "  <tbody>\n",
              "    <tr>\n",
              "      <th>0</th>\n",
              "      <td>CEPQ.S2371</td>\n",
              "      <td>1996.12</td>\n",
              "      <td>899.0</td>\n",
              "      <td>FINAL</td>\n",
              "      <td>Index</td>\n",
              "      <td>Capital Goods Price Index - CEP</td>\n",
              "      <td>Price Index by Item - Plant, Machinery and Equ...</td>\n",
              "      <td>Glass and glass products</td>\n",
              "      <td>NaN</td>\n",
              "      <td>NaN</td>\n",
              "      <td>NaN</td>\n",
              "      <td>NaN</td>\n",
              "    </tr>\n",
              "    <tr>\n",
              "      <th>1</th>\n",
              "      <td>CEPQ.S2371</td>\n",
              "      <td>1997.03</td>\n",
              "      <td>884.0</td>\n",
              "      <td>FINAL</td>\n",
              "      <td>Index</td>\n",
              "      <td>Capital Goods Price Index - CEP</td>\n",
              "      <td>Price Index by Item - Plant, Machinery and Equ...</td>\n",
              "      <td>Glass and glass products</td>\n",
              "      <td>NaN</td>\n",
              "      <td>NaN</td>\n",
              "      <td>NaN</td>\n",
              "      <td>NaN</td>\n",
              "    </tr>\n",
              "    <tr>\n",
              "      <th>2</th>\n",
              "      <td>CEPQ.S2371</td>\n",
              "      <td>1997.06</td>\n",
              "      <td>925.0</td>\n",
              "      <td>FINAL</td>\n",
              "      <td>Index</td>\n",
              "      <td>Capital Goods Price Index - CEP</td>\n",
              "      <td>Price Index by Item - Plant, Machinery and Equ...</td>\n",
              "      <td>Glass and glass products</td>\n",
              "      <td>NaN</td>\n",
              "      <td>NaN</td>\n",
              "      <td>NaN</td>\n",
              "      <td>NaN</td>\n",
              "    </tr>\n",
              "    <tr>\n",
              "      <th>3</th>\n",
              "      <td>CEPQ.S2371</td>\n",
              "      <td>1997.09</td>\n",
              "      <td>932.0</td>\n",
              "      <td>FINAL</td>\n",
              "      <td>Index</td>\n",
              "      <td>Capital Goods Price Index - CEP</td>\n",
              "      <td>Price Index by Item - Plant, Machinery and Equ...</td>\n",
              "      <td>Glass and glass products</td>\n",
              "      <td>NaN</td>\n",
              "      <td>NaN</td>\n",
              "      <td>NaN</td>\n",
              "      <td>NaN</td>\n",
              "    </tr>\n",
              "    <tr>\n",
              "      <th>4</th>\n",
              "      <td>CEPQ.S2371</td>\n",
              "      <td>1997.12</td>\n",
              "      <td>929.0</td>\n",
              "      <td>FINAL</td>\n",
              "      <td>Index</td>\n",
              "      <td>Capital Goods Price Index - CEP</td>\n",
              "      <td>Price Index by Item - Plant, Machinery and Equ...</td>\n",
              "      <td>Glass and glass products</td>\n",
              "      <td>NaN</td>\n",
              "      <td>NaN</td>\n",
              "      <td>NaN</td>\n",
              "      <td>NaN</td>\n",
              "    </tr>\n",
              "    <tr>\n",
              "      <th>...</th>\n",
              "      <td>...</td>\n",
              "      <td>...</td>\n",
              "      <td>...</td>\n",
              "      <td>...</td>\n",
              "      <td>...</td>\n",
              "      <td>...</td>\n",
              "      <td>...</td>\n",
              "      <td>...</td>\n",
              "      <td>...</td>\n",
              "      <td>...</td>\n",
              "      <td>...</td>\n",
              "      <td>...</td>\n",
              "    </tr>\n",
              "    <tr>\n",
              "      <th>66521</th>\n",
              "      <td>PPIQ.SQURS2110</td>\n",
              "      <td>2019.03</td>\n",
              "      <td>1244.0</td>\n",
              "      <td>FINAL</td>\n",
              "      <td>Index</td>\n",
              "      <td>Producers Price Index - PPI</td>\n",
              "      <td>Outputs (ANZSIC06) - NZSIOC level 4, Base: Dec...</td>\n",
              "      <td>Repair and Maintenance</td>\n",
              "      <td>NaN</td>\n",
              "      <td>NaN</td>\n",
              "      <td>NaN</td>\n",
              "      <td>NaN</td>\n",
              "    </tr>\n",
              "    <tr>\n",
              "      <th>66522</th>\n",
              "      <td>PPIQ.SQURS2110</td>\n",
              "      <td>2019.06</td>\n",
              "      <td>1261.0</td>\n",
              "      <td>FINAL</td>\n",
              "      <td>Index</td>\n",
              "      <td>Producers Price Index - PPI</td>\n",
              "      <td>Outputs (ANZSIC06) - NZSIOC level 4, Base: Dec...</td>\n",
              "      <td>Repair and Maintenance</td>\n",
              "      <td>NaN</td>\n",
              "      <td>NaN</td>\n",
              "      <td>NaN</td>\n",
              "      <td>NaN</td>\n",
              "    </tr>\n",
              "    <tr>\n",
              "      <th>66523</th>\n",
              "      <td>PPIQ.SQURS2110</td>\n",
              "      <td>2019.09</td>\n",
              "      <td>1264.0</td>\n",
              "      <td>FINAL</td>\n",
              "      <td>Index</td>\n",
              "      <td>Producers Price Index - PPI</td>\n",
              "      <td>Outputs (ANZSIC06) - NZSIOC level 4, Base: Dec...</td>\n",
              "      <td>Repair and Maintenance</td>\n",
              "      <td>NaN</td>\n",
              "      <td>NaN</td>\n",
              "      <td>NaN</td>\n",
              "      <td>NaN</td>\n",
              "    </tr>\n",
              "    <tr>\n",
              "      <th>66524</th>\n",
              "      <td>PPIQ.SQURS2110</td>\n",
              "      <td>2019.12</td>\n",
              "      <td>1279.0</td>\n",
              "      <td>FINAL</td>\n",
              "      <td>Index</td>\n",
              "      <td>Producers Price Index - PPI</td>\n",
              "      <td>Outputs (ANZSIC06) - NZSIOC level 4, Base: Dec...</td>\n",
              "      <td>Repair and Maintenance</td>\n",
              "      <td>NaN</td>\n",
              "      <td>NaN</td>\n",
              "      <td>NaN</td>\n",
              "      <td>NaN</td>\n",
              "    </tr>\n",
              "    <tr>\n",
              "      <th>66525</th>\n",
              "      <td>PPIQ.SQURS2110</td>\n",
              "      <td>2020.03</td>\n",
              "      <td>1304.0</td>\n",
              "      <td>FINAL</td>\n",
              "      <td>Index</td>\n",
              "      <td>Producers Price Index - PPI</td>\n",
              "      <td>Outputs (ANZSIC06) - NZSIOC level 4, Base: Dec...</td>\n",
              "      <td>Repair and Maintenance</td>\n",
              "      <td>NaN</td>\n",
              "      <td>NaN</td>\n",
              "      <td>NaN</td>\n",
              "      <td>NaN</td>\n",
              "    </tr>\n",
              "  </tbody>\n",
              "</table>\n",
              "<p>66526 rows × 12 columns</p>\n",
              "</div>"
            ],
            "text/plain": [
              "      Series_reference   Period  ...  Series_title_4 Series_title_5\n",
              "0           CEPQ.S2371  1996.12  ...             NaN            NaN\n",
              "1           CEPQ.S2371  1997.03  ...             NaN            NaN\n",
              "2           CEPQ.S2371  1997.06  ...             NaN            NaN\n",
              "3           CEPQ.S2371  1997.09  ...             NaN            NaN\n",
              "4           CEPQ.S2371  1997.12  ...             NaN            NaN\n",
              "...                ...      ...  ...             ...            ...\n",
              "66521   PPIQ.SQURS2110  2019.03  ...             NaN            NaN\n",
              "66522   PPIQ.SQURS2110  2019.06  ...             NaN            NaN\n",
              "66523   PPIQ.SQURS2110  2019.09  ...             NaN            NaN\n",
              "66524   PPIQ.SQURS2110  2019.12  ...             NaN            NaN\n",
              "66525   PPIQ.SQURS2110  2020.03  ...             NaN            NaN\n",
              "\n",
              "[66526 rows x 12 columns]"
            ]
          },
          "metadata": {
            "tags": []
          },
          "execution_count": 8
        }
      ]
    },
    {
      "cell_type": "markdown",
      "metadata": {
        "id": "rIIIF6VIohzZ",
        "colab_type": "text"
      },
      "source": [
        "### **02) Usar os métodos da classe data frame para descrever, visualizar e entender como os dados estão distribuídos**\n"
      ]
    },
    {
      "cell_type": "code",
      "metadata": {
        "id": "eY9UWb_gojpl",
        "colab_type": "code",
        "colab": {
          "base_uri": "https://localhost:8080/",
          "height": 663
        },
        "outputId": "91600825-686a-4bf9-a59e-e7e2815f80ce"
      },
      "source": [
        "# exercício 02\n",
        "\n",
        "print('Head:\\n', modelo_df.head())\n",
        "print('\\nDescribe:\\n', modelo_df.describe())\n",
        "print('\\nColunas:', modelo_df.columns)\n",
        "print('\\nValores:\\n', modelo_df.values)\n",
        "print('\\nIndex:', modelo_df.index)"
      ],
      "execution_count": 36,
      "outputs": [
        {
          "output_type": "stream",
          "text": [
            "Head:\n",
            "   Series_reference   Period  ...  Series_title_4 Series_title_5\n",
            "0       CEPQ.S2371  1996.12  ...             NaN            NaN\n",
            "1       CEPQ.S2371  1997.03  ...             NaN            NaN\n",
            "2       CEPQ.S2371  1997.06  ...             NaN            NaN\n",
            "3       CEPQ.S2371  1997.09  ...             NaN            NaN\n",
            "4       CEPQ.S2371  1997.12  ...             NaN            NaN\n",
            "\n",
            "[5 rows x 12 columns]\n",
            "\n",
            "Describe:\n",
            "              Period    Data_value  ...  Series_title_4  Series_title_5\n",
            "count  66526.000000  66126.000000  ...             0.0             0.0\n",
            "mean    2006.658915    929.159935  ...             NaN             NaN\n",
            "std        9.254538    294.058157  ...             NaN             NaN\n",
            "min     1977.120000     -5.800000  ...             NaN             NaN\n",
            "25%     2000.030000    754.010695  ...             NaN             NaN\n",
            "50%     2008.120000    977.000000  ...             NaN             NaN\n",
            "75%     2014.120000   1069.000000  ...             NaN             NaN\n",
            "max     2020.030000   3512.000000  ...             NaN             NaN\n",
            "\n",
            "[8 rows x 5 columns]\n",
            "\n",
            "Colunas: Index(['Series_reference', 'Period', 'Data_value', 'STATUS', 'UNITS',\n",
            "       'Subject', 'Group', 'Series_title_1', 'Series_title_2',\n",
            "       'Series_title_3', 'Series_title_4', 'Series_title_5'],\n",
            "      dtype='object')\n",
            "\n",
            "Valores:\n",
            " [['CEPQ.S2371' 1996.12 899.0 ... nan nan nan]\n",
            " ['CEPQ.S2371' 1997.03 884.0 ... nan nan nan]\n",
            " ['CEPQ.S2371' 1997.06 925.0 ... nan nan nan]\n",
            " ...\n",
            " ['PPIQ.SQURS2110' 2019.09 1264.0 ... nan nan nan]\n",
            " ['PPIQ.SQURS2110' 2019.12 1279.0 ... nan nan nan]\n",
            " ['PPIQ.SQURS2110' 2020.03 1304.0 ... nan nan nan]]\n",
            "\n",
            "Index: RangeIndex(start=0, stop=66526, step=1)\n"
          ],
          "name": "stdout"
        }
      ]
    },
    {
      "cell_type": "markdown",
      "metadata": {
        "id": "C4xMkqX-shb7",
        "colab_type": "text"
      },
      "source": [
        "### **03) Exibir um histograma para cada coluna do arquivo. Você deve formatar cada histograma de uma maneira diferente**\n",
        "\n",
        "Você pode pesquisar mais referências na web de como formatar os histogramas"
      ]
    },
    {
      "cell_type": "code",
      "metadata": {
        "id": "2pLPGq1Zud_l",
        "colab_type": "code",
        "colab": {
          "base_uri": "https://localhost:8080/",
          "height": 547
        },
        "outputId": "6d0be873-8b36-4358-98d1-5a563c82f3f7"
      },
      "source": [
        "# exercício 03\n",
        "\n",
        "hist = modelo_df.hist(column='Period', grid=False, color='#86bf91')\n",
        "hist = hist[0]\n",
        "for x in hist:\n",
        "    # Bordas\n",
        "    x.spines['right'].set_visible(False)\n",
        "    x.spines['top'].set_visible(False)\n",
        "    # Titulo\n",
        "    x.set_title(\"Period\", weight='bold', size=14)\n",
        "    # Eixo X\n",
        "    x.set_xlabel(\"\", weight='bold', size=12)\n",
        "    # Eixo Y\n",
        "    x.set_ylabel(\"\", weight='bold', size=12)\n",
        "\n",
        "    vals = x.get_yticks()\n",
        "    for tick in vals:\n",
        "        x.axhline(y=tick, linestyle='dashed', alpha=0.2, color='#eeeeee')\n",
        "\n",
        "\n",
        "hist = modelo_df.hist(column='Data_value', grid=True, color='#14aa22')\n",
        "hist = hist[0]\n",
        "for x in hist:\n",
        "    # Bordas\n",
        "    x.spines['right'].set_visible(False)\n",
        "    x.spines['top'].set_visible(False)\n",
        "    # Titulo\n",
        "    x.set_title(\"Period\", weight='bold', size=14)\n",
        "    # Eixo X\n",
        "    x.set_xlabel(\"\", weight='bold', size=12)\n",
        "    # Eixo Y\n",
        "    x.set_ylabel(\"\", weight='bold', size=12)\n",
        "\n",
        "    vals = x.get_yticks()\n",
        "    for tick in vals:\n",
        "        x.axhline(y=tick, linestyle='dashed', alpha=0.2, color='#eeeeee')"
      ],
      "execution_count": 56,
      "outputs": [
        {
          "output_type": "display_data",
          "data": {
            "image/png": "[encoded data removed]",
            "text/plain": [
              "<Figure size 432x288 with 1 Axes>"
            ]
          },
          "metadata": {
            "tags": [],
            "needs_background": "light"
          }
        },
        {
          "output_type": "display_data",
          "data": {
            "image/png": "[encoded data removed]",
            "text/plain": [
              "<Figure size 432x288 with 1 Axes>"
            ]
          },
          "metadata": {
            "tags": [],
            "needs_background": "light"
          }
        }
      ]
    },
    {
      "cell_type": "markdown",
      "metadata": {
        "id": "dMp67WhF03zo",
        "colab_type": "text"
      },
      "source": [
        "### <font color='red'>ATENÇÃO:<font>\n",
        "Para salvar o exercício e postar no SINEF, use uma das opções abaixo:\n",
        "\n",
        "*   **Jupyter Notebook**: opção do menu \"File --> Download as --> Notebook (.ipynb)\n",
        "*   **Google Colaboratory**: opção do menu \"File --> Download .ipynb\"\n",
        "\n",
        "\n",
        "Salve o seu arquivo com o nome <font color='red'>**SeuNome_lista06.ipynb**</font>"
      ]
    }
  ]
}